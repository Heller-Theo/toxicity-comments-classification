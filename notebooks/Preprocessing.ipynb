{
 "cells": [
  {
   "cell_type": "markdown",
   "metadata": {},
   "source": [
    "# RNN Project - YouTube Comment Sentiment Analysis\n",
    "### by HELLER Theo\n",
    "\n",
    "## Introduction\n",
    "\n",
    "### Project Objective\n",
    "In this project, we use a Recurrent Neural Network (RNN) to analyze and classify the toxicity of YouTube comments. RNNs are well-suited for handling sequential data like text due to their ability to capture temporal or contextual dependencies.\n",
    "\n",
    "### Context\n",
    "The dataset used in this project comes from the Kaggle competition **\"Jigsaw Unintended Bias in Toxicity Classification.\"** It contains comments annotated based on their level of toxicity. The goal is to develop a model capable of predicting whether a comment is toxic or not.\n",
    "\n",
    "### Methodology\n",
    "The project is divided into several steps:\n",
    "1. Importing the dataset.\n",
    "2. Data preprocessing: cleaning the textual comments.\n",
    "3. Building and training RNN model using TensorFlow/Keras.\n",
    "4. Evaluating the model on the dataset.\n",
    "5. Analyzing the results and visualizing performance.\n",
    "\n",
    "### Expected Results\n",
    "This project is designed as a small-scale exercise, aiming to produce a reasonably accurate model given the limited computational resources available. The focus is on assembling building blocks to understand how to analyze text data and create a viable model for toxicity classification.\n",
    "\n",
    "**Dataset:**\n",
    "- Source: [Kaggle - Jigsaw Unintended Bias in Toxicity Classification](https://www.kaggle.com/c/jigsaw-unintended-bias-in-toxicity-classification)\n",
    "- Size: ~2 million annotated comments.\n"
   ]
  },
  {
   "cell_type": "markdown",
   "metadata": {},
   "source": [
    "# 1. Importing the Dataset\n",
    "\n",
    "We use the dataset *Jigsaw Unintended Bias in Toxicity Classification*, which contains millions of textual comments. Each comment is annotated with a toxicity score ranging from 0 (non-toxic) to 1 (very toxic). Our goal is to binarize this score to predict whether a comment is toxic (1) or non-toxic (0).\n",
    "\n",
    "### Key Steps:\n",
    "- Load the data.\n",
    "- Analyze its structure and remove unnecessary columns.\n",
    "\n",
    "The file is available in CSV format and can be downloaded from Kaggle.\n"
   ]
  },
  {
   "cell_type": "code",
   "execution_count": 21,
   "metadata": {},
   "outputs": [
    {
     "data": {
      "text/html": [
       "<div>\n",
       "<style scoped>\n",
       "    .dataframe tbody tr th:only-of-type {\n",
       "        vertical-align: middle;\n",
       "    }\n",
       "\n",
       "    .dataframe tbody tr th {\n",
       "        vertical-align: top;\n",
       "    }\n",
       "\n",
       "    .dataframe thead th {\n",
       "        text-align: right;\n",
       "    }\n",
       "</style>\n",
       "<table border=\"1\" class=\"dataframe\">\n",
       "  <thead>\n",
       "    <tr style=\"text-align: right;\">\n",
       "      <th></th>\n",
       "      <th>id</th>\n",
       "      <th>comment_text</th>\n",
       "      <th>split</th>\n",
       "      <th>created_date</th>\n",
       "      <th>publication_id</th>\n",
       "      <th>parent_id</th>\n",
       "      <th>article_id</th>\n",
       "      <th>rating</th>\n",
       "      <th>funny</th>\n",
       "      <th>wow</th>\n",
       "      <th>...</th>\n",
       "      <th>white</th>\n",
       "      <th>asian</th>\n",
       "      <th>latino</th>\n",
       "      <th>other_race_or_ethnicity</th>\n",
       "      <th>physical_disability</th>\n",
       "      <th>intellectual_or_learning_disability</th>\n",
       "      <th>psychiatric_or_mental_illness</th>\n",
       "      <th>other_disability</th>\n",
       "      <th>identity_annotator_count</th>\n",
       "      <th>toxicity_annotator_count</th>\n",
       "    </tr>\n",
       "  </thead>\n",
       "  <tbody>\n",
       "    <tr>\n",
       "      <th>0</th>\n",
       "      <td>1083994</td>\n",
       "      <td>He got his money... now he lies in wait till a...</td>\n",
       "      <td>train</td>\n",
       "      <td>2017-03-06 15:21:53.675241+00</td>\n",
       "      <td>21</td>\n",
       "      <td>NaN</td>\n",
       "      <td>317120</td>\n",
       "      <td>approved</td>\n",
       "      <td>0</td>\n",
       "      <td>0</td>\n",
       "      <td>...</td>\n",
       "      <td>NaN</td>\n",
       "      <td>NaN</td>\n",
       "      <td>NaN</td>\n",
       "      <td>NaN</td>\n",
       "      <td>NaN</td>\n",
       "      <td>NaN</td>\n",
       "      <td>NaN</td>\n",
       "      <td>NaN</td>\n",
       "      <td>0</td>\n",
       "      <td>67</td>\n",
       "    </tr>\n",
       "    <tr>\n",
       "      <th>1</th>\n",
       "      <td>650904</td>\n",
       "      <td>Mad dog will surely put the liberals in mental...</td>\n",
       "      <td>train</td>\n",
       "      <td>2016-12-02 16:44:21.329535+00</td>\n",
       "      <td>21</td>\n",
       "      <td>NaN</td>\n",
       "      <td>154086</td>\n",
       "      <td>approved</td>\n",
       "      <td>0</td>\n",
       "      <td>0</td>\n",
       "      <td>...</td>\n",
       "      <td>NaN</td>\n",
       "      <td>NaN</td>\n",
       "      <td>NaN</td>\n",
       "      <td>NaN</td>\n",
       "      <td>NaN</td>\n",
       "      <td>NaN</td>\n",
       "      <td>NaN</td>\n",
       "      <td>NaN</td>\n",
       "      <td>0</td>\n",
       "      <td>76</td>\n",
       "    </tr>\n",
       "  </tbody>\n",
       "</table>\n",
       "<p>2 rows × 46 columns</p>\n",
       "</div>"
      ],
      "text/plain": [
       "        id                                       comment_text  split  \\\n",
       "0  1083994  He got his money... now he lies in wait till a...  train   \n",
       "1   650904  Mad dog will surely put the liberals in mental...  train   \n",
       "\n",
       "                    created_date  publication_id  parent_id  article_id  \\\n",
       "0  2017-03-06 15:21:53.675241+00              21        NaN      317120   \n",
       "1  2016-12-02 16:44:21.329535+00              21        NaN      154086   \n",
       "\n",
       "     rating  funny  wow  ...  white  asian  latino  other_race_or_ethnicity  \\\n",
       "0  approved      0    0  ...    NaN    NaN     NaN                      NaN   \n",
       "1  approved      0    0  ...    NaN    NaN     NaN                      NaN   \n",
       "\n",
       "   physical_disability  intellectual_or_learning_disability  \\\n",
       "0                  NaN                                  NaN   \n",
       "1                  NaN                                  NaN   \n",
       "\n",
       "   psychiatric_or_mental_illness  other_disability  identity_annotator_count  \\\n",
       "0                            NaN               NaN                         0   \n",
       "1                            NaN               NaN                         0   \n",
       "\n",
       "   toxicity_annotator_count  \n",
       "0                        67  \n",
       "1                        76  \n",
       "\n",
       "[2 rows x 46 columns]"
      ]
     },
     "execution_count": 21,
     "metadata": {},
     "output_type": "execute_result"
    }
   ],
   "source": [
    "import pandas as pd\n",
    "\n",
    "# Loading data\n",
    "dataset_path = \"../data/all_data.csv\"  # Replace with the exact path\n",
    "data = pd.read_csv(dataset_path)\n",
    "\n",
    "# Display of first lines\n",
    "data.head(2)"
   ]
  },
  {
   "cell_type": "code",
   "execution_count": 22,
   "metadata": {},
   "outputs": [
    {
     "name": "stdout",
     "output_type": "stream",
     "text": [
      "<class 'pandas.core.frame.DataFrame'>\n",
      "RangeIndex: 1999516 entries, 0 to 1999515\n",
      "Data columns (total 46 columns):\n",
      " #   Column                               Dtype  \n",
      "---  ------                               -----  \n",
      " 0   id                                   int64  \n",
      " 1   comment_text                         object \n",
      " 2   split                                object \n",
      " 3   created_date                         object \n",
      " 4   publication_id                       int64  \n",
      " 5   parent_id                            float64\n",
      " 6   article_id                           int64  \n",
      " 7   rating                               object \n",
      " 8   funny                                int64  \n",
      " 9   wow                                  int64  \n",
      " 10  sad                                  int64  \n",
      " 11  likes                                int64  \n",
      " 12  disagree                             int64  \n",
      " 13  toxicity                             float64\n",
      " 14  severe_toxicity                      float64\n",
      " 15  obscene                              float64\n",
      " 16  sexual_explicit                      float64\n",
      " 17  identity_attack                      float64\n",
      " 18  insult                               float64\n",
      " 19  threat                               float64\n",
      " 20  male                                 float64\n",
      " 21  female                               float64\n",
      " 22  transgender                          float64\n",
      " 23  other_gender                         float64\n",
      " 24  heterosexual                         float64\n",
      " 25  homosexual_gay_or_lesbian            float64\n",
      " 26  bisexual                             float64\n",
      " 27  other_sexual_orientation             float64\n",
      " 28  christian                            float64\n",
      " 29  jewish                               float64\n",
      " 30  muslim                               float64\n",
      " 31  hindu                                float64\n",
      " 32  buddhist                             float64\n",
      " 33  atheist                              float64\n",
      " 34  other_religion                       float64\n",
      " 35  black                                float64\n",
      " 36  white                                float64\n",
      " 37  asian                                float64\n",
      " 38  latino                               float64\n",
      " 39  other_race_or_ethnicity              float64\n",
      " 40  physical_disability                  float64\n",
      " 41  intellectual_or_learning_disability  float64\n",
      " 42  psychiatric_or_mental_illness        float64\n",
      " 43  other_disability                     float64\n",
      " 44  identity_annotator_count             int64  \n",
      " 45  toxicity_annotator_count             int64  \n",
      "dtypes: float64(32), int64(10), object(4)\n",
      "memory usage: 701.7+ MB\n"
     ]
    }
   ],
   "source": [
    "# Overview of columns and types\n",
    "data.info()"
   ]
  },
  {
   "cell_type": "markdown",
   "metadata": {},
   "source": [
    "We want to analyse the text comments and the associated toxicity scores. We will therefore only load the `comment_text`, `target`, `toxicity` and `toxicity_annotator_count` columns."
   ]
  },
  {
   "cell_type": "code",
   "execution_count": 23,
   "metadata": {},
   "outputs": [
    {
     "data": {
      "text/html": [
       "<div>\n",
       "<style scoped>\n",
       "    .dataframe tbody tr th:only-of-type {\n",
       "        vertical-align: middle;\n",
       "    }\n",
       "\n",
       "    .dataframe tbody tr th {\n",
       "        vertical-align: top;\n",
       "    }\n",
       "\n",
       "    .dataframe thead th {\n",
       "        text-align: right;\n",
       "    }\n",
       "</style>\n",
       "<table border=\"1\" class=\"dataframe\">\n",
       "  <thead>\n",
       "    <tr style=\"text-align: right;\">\n",
       "      <th></th>\n",
       "      <th>comment_text</th>\n",
       "      <th>split</th>\n",
       "      <th>toxicity</th>\n",
       "      <th>toxicity_annotator_count</th>\n",
       "    </tr>\n",
       "  </thead>\n",
       "  <tbody>\n",
       "    <tr>\n",
       "      <th>0</th>\n",
       "      <td>He got his money... now he lies in wait till a...</td>\n",
       "      <td>train</td>\n",
       "      <td>0.373134</td>\n",
       "      <td>67</td>\n",
       "    </tr>\n",
       "    <tr>\n",
       "      <th>1</th>\n",
       "      <td>Mad dog will surely put the liberals in mental...</td>\n",
       "      <td>train</td>\n",
       "      <td>0.605263</td>\n",
       "      <td>76</td>\n",
       "    </tr>\n",
       "  </tbody>\n",
       "</table>\n",
       "</div>"
      ],
      "text/plain": [
       "                                        comment_text  split  toxicity  \\\n",
       "0  He got his money... now he lies in wait till a...  train  0.373134   \n",
       "1  Mad dog will surely put the liberals in mental...  train  0.605263   \n",
       "\n",
       "   toxicity_annotator_count  \n",
       "0                        67  \n",
       "1                        76  "
      ]
     },
     "execution_count": 23,
     "metadata": {},
     "output_type": "execute_result"
    }
   ],
   "source": [
    "# Removing unnecessary columns\n",
    "columns_to_keep=['comment_text',\n",
    "                 'split',  \n",
    "                 'toxicity',\n",
    "                 'toxicity_annotator_count'\n",
    "                 ]\n",
    "\n",
    "data=data[columns_to_keep]\n",
    "data.columns\n",
    "\n",
    "data.head(2)"
   ]
  },
  {
   "cell_type": "markdown",
   "metadata": {},
   "source": [
    "As we have limited computing power, we will only keep comments that have been annotated by at least 5 annotators in order to reduce the size of the dataset and speed up model training by keeping only the most significant comments."
   ]
  },
  {
   "cell_type": "code",
   "execution_count": 24,
   "metadata": {},
   "outputs": [
    {
     "name": "stdout",
     "output_type": "stream",
     "text": [
      "comment_text                685630\n",
      "split                       685630\n",
      "toxicity                    685630\n",
      "toxicity_annotator_count    685630\n",
      "dtype: int64\n"
     ]
    }
   ],
   "source": [
    "print(data[data['toxicity_annotator_count']>=5].count())\n",
    "data = data[data['toxicity_annotator_count']>=5]"
   ]
  },
  {
   "cell_type": "markdown",
   "metadata": {},
   "source": [
    "We will check the rows with missing values and delete them if necessary."
   ]
  },
  {
   "cell_type": "code",
   "execution_count": 25,
   "metadata": {},
   "outputs": [
    {
     "name": "stdout",
     "output_type": "stream",
     "text": [
      "\n",
      "Valeurs manquantes par colonne :\n",
      "Series([], dtype: int64)\n"
     ]
    }
   ],
   "source": [
    "# Checking for missing values\n",
    "missing_values = data.isnull().sum()\n",
    "print(\"\\nValeurs manquantes par colonne :\")\n",
    "print(missing_values[missing_values > 0])"
   ]
  },
  {
   "cell_type": "markdown",
   "metadata": {},
   "source": [
    "We're going to look at the distribution of classes to check whether the dataset is balanced or not."
   ]
  },
  {
   "cell_type": "code",
   "execution_count": 26,
   "metadata": {},
   "outputs": [
    {
     "data": {
      "image/png": "[encoded data removed]",
      "text/plain": [
       "<Figure size 640x480 with 1 Axes>"
      ]
     },
     "metadata": {},
     "output_type": "display_data"
    }
   ],
   "source": [
    "# Toxicty score distribution\n",
    "import seaborn as sns\n",
    "import matplotlib.pyplot as plt\n",
    "\n",
    "sns.histplot(data['toxicity'], bins=50, kde=True)\n",
    "plt.title(\"Distribution des scores de toxicité\")\n",
    "plt.xlabel(\"Score de toxicité\")\n",
    "plt.ylabel(\"Nombre de commentaires\")\n",
    "plt.show()"
   ]
  },
  {
   "cell_type": "markdown",
   "metadata": {},
   "source": [
    "We can see that the dataset is unbalanced, with a majority of non-toxic comments. We will see how to manage this imbalance during the model training phase. For the moment, we're simply going to binarise the toxicity scores, considering a comment to be toxic if the score is greater than 0.5. This will provide a first simplified version of the problem which will help us to have a first functional model."
   ]
  },
  {
   "cell_type": "code",
   "execution_count": 27,
   "metadata": {},
   "outputs": [
    {
     "data": {
      "image/png": "[encoded data removed]",
      "text/plain": [
       "<Figure size 640x480 with 1 Axes>"
      ]
     },
     "metadata": {},
     "output_type": "display_data"
    }
   ],
   "source": [
    "# Creation of a toxicity_label column with values of 0 or 1 and a pivot of 0.5\n",
    "data['toxicity_label'] = (data['toxicity'] >= 0.5).astype(int)\n",
    "data['toxicity_label'].value_counts(normalize=True)\n",
    "\n",
    "\n",
    "# Toxicity label distribution\n",
    "sns.histplot(data['toxicity_label'])\n",
    "plt.title(\"Distribution des labels de toxicité\")\n",
    "plt.xlabel(\"Label de toxicité\")\n",
    "plt.ylabel(\"Nombre de commentaires\")\n",
    "plt.show()\n"
   ]
  },
  {
   "cell_type": "markdown",
   "metadata": {},
   "source": [
    "# 2. Preprocessing Text Data\n",
    "\n",
    "To train a natural language processing model, raw text data needs to be cleaned and prepared. \n",
    "\n",
    "### Key Steps:\n",
    "- **Cleaning**: removing special characters, HTML tags, and extra spaces.\n",
    "- **Tokenization**: splitting sentences into words.\n",
    "- **Lemmatization**: reducing words to their canonical form.\n",
    "- **Conversion**: convertion of words into numerical sequences compatible with deep learning models.\n",
    "\n",
    "**Disclaimer**: These steps are followed to simplify the model due to the limited computational resources available. In practice, however, we often retain more complex preprocessing steps and techniques to better capture the nuances of the text, such as stemming, removing stop words, or using more advanced tokenization methods. The simplifications made here are only for the purpose of this specific project.\n"
   ]
  },
  {
   "cell_type": "markdown",
   "metadata": {},
   "source": [
    "We are not going to remove stopwords for the time being, as they may contain useful information for classifying the toxicity of comments. We can always remove them later if necessary."
   ]
  },
  {
   "cell_type": "code",
   "execution_count": 28,
   "metadata": {},
   "outputs": [
    {
     "name": "stderr",
     "output_type": "stream",
     "text": [
      "[nltk_data] Downloading package punkt to\n",
      "[nltk_data]     C:\\Users\\helle\\AppData\\Roaming\\nltk_data...\n",
      "[nltk_data]   Package punkt is already up-to-date!\n",
      "[nltk_data] Downloading package wordnet to\n",
      "[nltk_data]     C:\\Users\\helle\\AppData\\Roaming\\nltk_data...\n",
      "[nltk_data]   Package wordnet is already up-to-date!\n",
      "[nltk_data] Downloading package punkt_tab to\n",
      "[nltk_data]     C:\\Users\\helle\\AppData\\Roaming\\nltk_data...\n",
      "[nltk_data]   Package punkt_tab is already up-to-date!\n"
     ]
    }
   ],
   "source": [
    "import re\n",
    "from nltk.tokenize import word_tokenize\n",
    "from nltk.stem import WordNetLemmatizer\n",
    "import nltk\n",
    "\n",
    "nltk.download('punkt')\n",
    "nltk.download('wordnet')\n",
    "nltk.download('punkt_tab')\n",
    "\n",
    "# global initialization of the WordNetLemmatizer\n",
    "wordlem = WordNetLemmatizer()\n",
    "\n",
    "# Function to process a comment\n",
    "def process_comment(comment):\n",
    "    # Convert to lowercase\n",
    "    comment = comment.lower()\n",
    "\n",
    "    # Delete HTML tags\n",
    "    comment = re.sub(r'<.*?>', '', comment)\n",
    "    \n",
    "    # Keep only letters and spaces\n",
    "    comment = re.sub(r'[^a-z\\s]', '', comment)\n",
    "\n",
    "    # Delete multiple spaces\n",
    "    comment = re.sub(r'\\s+', ' ', comment).strip()\n",
    "\n",
    "    # Tokenization\n",
    "    tokens = word_tokenize(comment)\n",
    "\n",
    "    # Lemmatization\n",
    "    final_tokens = [wordlem.lemmatize(w) for w in tokens]\n",
    "\n",
    "    return ' '.join(final_tokens)\n"
   ]
  },
  {
   "cell_type": "code",
   "execution_count": 29,
   "metadata": {},
   "outputs": [],
   "source": [
    "# Application of the function to the comment_text column\n",
    "data['comment_text_cleaned'] = data['comment_text'].apply(process_comment)"
   ]
  },
  {
   "cell_type": "code",
   "execution_count": 32,
   "metadata": {},
   "outputs": [
    {
     "name": "stdout",
     "output_type": "stream",
     "text": [
      "Example before cleaning:\n",
      "He got his money... now he lies in wait till after the election in 2 yrs.... dirty politicians need to be afraid of Tar and feathers again... but they aren't and so the people get screwed.\n",
      "\n",
      "Exemple after cleaning :\n",
      "he got his money now he lie in wait till after the election in yr dirty politician need to be afraid of tar and feather again but they arent and so the people get screwed\n"
     ]
    }
   ],
   "source": [
    "# Display of the result before and after cleaning\n",
    "print(\"Example before cleaning:\")\n",
    "print(data['comment_text'].iloc[0])\n",
    "print(\"\\nExemple after cleaning :\")\n",
    "print(data['comment_text_cleaned'].iloc[0])"
   ]
  },
  {
   "cell_type": "markdown",
   "metadata": {},
   "source": [
    "Again, to reduce the size of the dataset, we will limit the length of comments to 100 words, as longer comments are more complex to process with our limited computing power and represent only a small proportion of comments."
   ]
  },
  {
   "cell_type": "code",
   "execution_count": 33,
   "metadata": {},
   "outputs": [
    {
     "name": "stdout",
     "output_type": "stream",
     "text": [
      "Proportion of comments with strictly more than 100 words:\n",
      "16.489797704301154\n",
      "Proportion of comments with strictly less than 1 words:\n",
      "0.0\n"
     ]
    }
   ],
   "source": [
    "data['word_count'] = data['comment_text_cleaned'].apply(lambda x: len(str(x).split(\" \")))\n",
    "\n",
    "maxlen = 100\n",
    "minlen = 1\n",
    "\n",
    "print(\"Proportion of comments with strictly more than {} words:\".format(maxlen))\n",
    "print(data[data['word_count'] > maxlen].shape[0]/data.shape[0]*100)\n",
    "\n",
    "print(\"Proportion of comments with strictly less than {} words:\".format(minlen))\n",
    "print(data[data['word_count'] < minlen].shape[0]/data.shape[0]*100)\n"
   ]
  },
  {
   "cell_type": "code",
   "execution_count": 34,
   "metadata": {},
   "outputs": [
    {
     "name": "stdout",
     "output_type": "stream",
     "text": [
      "Number of comments after cleaning and filtering: 572571\n"
     ]
    }
   ],
   "source": [
    "# Data filtering according to the number of words in the comment\n",
    "data = data[(data['word_count'] <= maxlen) & (data['word_count'] >= minlen)]\n",
    "data = data.drop(['word_count'], axis=1)\n",
    "\n",
    "print(\"Number of comments after cleaning and filtering:\", data.shape[0])"
   ]
  },
  {
   "cell_type": "markdown",
   "metadata": {},
   "source": [
    "We are now going to tokenise the comments and transform them into digital sequences that can be interpreted by a deep learning model."
   ]
  },
  {
   "cell_type": "code",
   "execution_count": 35,
   "metadata": {},
   "outputs": [
    {
     "name": "stdout",
     "output_type": "stream",
     "text": [
      "Padded sequences shape: (572571, 100)\n"
     ]
    }
   ],
   "source": [
    "from tensorflow.keras.preprocessing.text import Tokenizer\n",
    "from tensorflow.keras.preprocessing.sequence import pad_sequences\n",
    "\n",
    "# Define the parameters of the tokenizer\n",
    "vocab_size = 25000  # Maximum number of words to keep\n",
    "max_length = 100    # Maximum length of sequences (padding)\n",
    "\n",
    "# Initialize the tokenizer\n",
    "tokenizer = Tokenizer(num_words=vocab_size, oov_token=\"<OOV>\")\n",
    "tokenizer.fit_on_texts(data['comment_text_cleaned'])\n",
    "\n",
    "# Convert text to sequences of integers\n",
    "sequences = tokenizer.texts_to_sequences(data['comment_text_cleaned'])\n",
    "\n",
    "# Apply padding to sequences\n",
    "padded_sequences = pad_sequences(sequences, maxlen=max_length, padding='post', truncating='post')\n",
    "data['padded_sequences'] = list(padded_sequences)\n",
    "\n",
    "print(f\"Padded sequences shape: {padded_sequences.shape}\")"
   ]
  },
  {
   "cell_type": "code",
   "execution_count": 36,
   "metadata": {},
   "outputs": [
    {
     "name": "stdout",
     "output_type": "stream",
     "text": [
      "Total number of <OOV> words generated: 381723\n",
      "Proportion of <OOV> words: 1.83%\n"
     ]
    }
   ],
   "source": [
    "# Count the \"<OOV>\" words in the sequences\n",
    "oov_index = tokenizer.word_index.get(\"<OOV>\")  # Retrieve the index assigned to the \"<OOV>\" token\n",
    "oov_count = sum(sequence.count(oov_index) for sequence in sequences)\n",
    "\n",
    "print(f\"Total number of <OOV> words generated: {oov_count}\")\n",
    "\n",
    "total_words = sum(len(sequence) for sequence in sequences)\n",
    "oov_proportion = oov_count / total_words\n",
    "\n",
    "print(f\"Proportion of <OOV> words: {oov_proportion:.2%}\")\n"
   ]
  },
  {
   "cell_type": "markdown",
   "metadata": {},
   "source": [
    "We notice that with 25,000 unique words, we are able to cover more than 98% of the words in the dataset. We will therefore limit our vocabulary to 25,000 words to reduce the complexity of the model."
   ]
  },
  {
   "cell_type": "code",
   "execution_count": 37,
   "metadata": {},
   "outputs": [
    {
     "name": "stdout",
     "output_type": "stream",
     "text": [
      "Example of sequence after tokenization and padding:\n",
      "[  22  178   38  120   73   22  214    8  490 2636  146    2  230    8\n",
      " 3050 1107  356   78    3   16 1127    6 4964    5 4632  163   28   20\n",
      "  387    5   35    2   36   53 1666    0    0    0    0    0    0    0\n",
      "    0    0    0    0    0    0    0    0    0    0    0    0    0    0\n",
      "    0    0    0    0    0    0    0    0    0    0    0    0    0    0\n",
      "    0    0    0    0    0    0    0    0    0    0    0    0    0    0\n",
      "    0    0    0    0    0    0    0    0    0    0    0    0    0    0\n",
      "    0    0]\n"
     ]
    }
   ],
   "source": [
    "print(\"Example of sequence after tokenization and padding:\")\n",
    "print(padded_sequences[0])"
   ]
  },
  {
   "cell_type": "markdown",
   "metadata": {},
   "source": [
    "Now that the text data is preprocessed, we can save it into a new CSV file to use it in the next steps of the project."
   ]
  },
  {
   "cell_type": "code",
   "execution_count": 38,
   "metadata": {},
   "outputs": [
    {
     "data": {
      "text/html": [
       "<div>\n",
       "<style scoped>\n",
       "    .dataframe tbody tr th:only-of-type {\n",
       "        vertical-align: middle;\n",
       "    }\n",
       "\n",
       "    .dataframe tbody tr th {\n",
       "        vertical-align: top;\n",
       "    }\n",
       "\n",
       "    .dataframe thead th {\n",
       "        text-align: right;\n",
       "    }\n",
       "</style>\n",
       "<table border=\"1\" class=\"dataframe\">\n",
       "  <thead>\n",
       "    <tr style=\"text-align: right;\">\n",
       "      <th></th>\n",
       "      <th>split</th>\n",
       "      <th>toxicity</th>\n",
       "      <th>toxicity_label</th>\n",
       "      <th>padded_sequences</th>\n",
       "    </tr>\n",
       "  </thead>\n",
       "  <tbody>\n",
       "    <tr>\n",
       "      <th>0</th>\n",
       "      <td>train</td>\n",
       "      <td>0.373134</td>\n",
       "      <td>0</td>\n",
       "      <td>[22, 178, 38, 120, 73, 22, 214, 8, 490, 2636, ...</td>\n",
       "    </tr>\n",
       "    <tr>\n",
       "      <th>1</th>\n",
       "      <td>train</td>\n",
       "      <td>0.605263</td>\n",
       "      <td>1</td>\n",
       "      <td>[1689, 434, 32, 1458, 196, 2, 110, 8, 751, 181...</td>\n",
       "    </tr>\n",
       "  </tbody>\n",
       "</table>\n",
       "</div>"
      ],
      "text/plain": [
       "   split  toxicity  toxicity_label  \\\n",
       "0  train  0.373134               0   \n",
       "1  train  0.605263               1   \n",
       "\n",
       "                                    padded_sequences  \n",
       "0  [22, 178, 38, 120, 73, 22, 214, 8, 490, 2636, ...  \n",
       "1  [1689, 434, 32, 1458, 196, 2, 110, 8, 751, 181...  "
      ]
     },
     "execution_count": 38,
     "metadata": {},
     "output_type": "execute_result"
    }
   ],
   "source": [
    "# Removing unnecessary columns\n",
    "\n",
    "columns_to_keep=['split',  \n",
    "                 'toxicity',\n",
    "                 'toxicity_label',\n",
    "                 'padded_sequences'\n",
    "                 ]\n",
    "\n",
    "data=data[columns_to_keep]\n",
    "data.columns\n",
    "\n",
    "data.head(2)"
   ]
  },
  {
   "cell_type": "code",
   "execution_count": 39,
   "metadata": {},
   "outputs": [
    {
     "data": {
      "text/plain": [
       "(572571, 4)"
      ]
     },
     "execution_count": 39,
     "metadata": {},
     "output_type": "execute_result"
    }
   ],
   "source": [
    "data.shape"
   ]
  },
  {
   "cell_type": "code",
   "execution_count": 40,
   "metadata": {},
   "outputs": [
    {
     "name": "stdout",
     "output_type": "stream",
     "text": [
      "The cleaned data and tokenizer have been saved.\n"
     ]
    }
   ],
   "source": [
    "# Saving the tokenizer and cleaned data\n",
    "import pickle\n",
    "\n",
    "with open('../data/cleaned_dataset.pickle', 'wb') as handle:\n",
    "    pickle.dump(data, handle, protocol=pickle.HIGHEST_PROTOCOL)\n",
    "\n",
    "with open('../src/tokenizer.pickle', 'wb') as handle:\n",
    "    pickle.dump(tokenizer, handle, protocol=pickle.HIGHEST_PROTOCOL)\n",
    "\n",
    "print(\"The cleaned data and tokenizer have been saved.\")\n"
   ]
  }
 ],
 "metadata": {
  "kernelspec": {
   "display_name": "Python 3",
   "language": "python",
   "name": "python3"
  },
  "language_info": {
   "codemirror_mode": {
    "name": "ipython",
    "version": 3
   },
   "file_extension": ".py",
   "mimetype": "text/x-python",
   "name": "python",
   "nbconvert_exporter": "python",
   "pygments_lexer": "ipython3",
   "version": "3.11.2"
  }
 },
 "nbformat": 4,
 "nbformat_minor": 2
}
