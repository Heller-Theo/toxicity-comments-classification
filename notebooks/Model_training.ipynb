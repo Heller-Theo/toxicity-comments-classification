{
 "cells": [
  {
   "cell_type": "markdown",
   "metadata": {},
   "source": [
    "# 3. Modélisation avec un RNN\n",
    "\n",
    "Dans cette section, nous allons séparer les données en deux ensembles : un pour l'entrainement et un pour le test. Ensuite, nous allons construire un modèle de réseau de neurones récurrent (RNN) pour classer les commentaires YouTube en fonction de leur toxicité.\n",
    "\n",
    "### Architecture du modèle\n",
    "Nous utilisons une architecture RNN simple avec les couches suivantes :\n",
    "- Embedding : pour convertir les mots en vecteurs denses.\n",
    "- LSTM ou GRU : pour capturer les dépendances séquentielles dans les textes.\n",
    "- Dense : pour classifier chaque commentaire comme toxique ou non toxique."
   ]
  },
  {
   "cell_type": "markdown",
   "metadata": {},
   "source": [
    "Dans un premier temps nous allons récupérer les données prétraitées et le tokenizer que nous avons sauvegardé dans la section précédente."
   ]
  },
  {
   "cell_type": "code",
   "execution_count": 52,
   "metadata": {},
   "outputs": [],
   "source": [
    "# Récupération des données prétraitées et du tokenizer :\n",
    "import pickle\n",
    "from keras.models import load_model\n",
    "\n",
    "# Chargement des données prétraitées et du tokenizer :\n",
    "with open('../data/cleaned_dataset.pickle', 'rb') as f:\n",
    "    data = pickle.load(f)\n",
    "\n",
    "with open('../src/tokenizer.pickle', 'rb') as f:\n",
    "    tokenizer = pickle.load(f)"
   ]
  },
  {
   "cell_type": "code",
   "execution_count": 53,
   "metadata": {},
   "outputs": [
    {
     "data": {
      "text/html": [
       "<div>\n",
       "<style scoped>\n",
       "    .dataframe tbody tr th:only-of-type {\n",
       "        vertical-align: middle;\n",
       "    }\n",
       "\n",
       "    .dataframe tbody tr th {\n",
       "        vertical-align: top;\n",
       "    }\n",
       "\n",
       "    .dataframe thead th {\n",
       "        text-align: right;\n",
       "    }\n",
       "</style>\n",
       "<table border=\"1\" class=\"dataframe\">\n",
       "  <thead>\n",
       "    <tr style=\"text-align: right;\">\n",
       "      <th></th>\n",
       "      <th>split</th>\n",
       "      <th>toxicity</th>\n",
       "      <th>toxicity_label</th>\n",
       "      <th>padded_sequences</th>\n",
       "    </tr>\n",
       "  </thead>\n",
       "  <tbody>\n",
       "    <tr>\n",
       "      <th>0</th>\n",
       "      <td>train</td>\n",
       "      <td>0.373134</td>\n",
       "      <td>0</td>\n",
       "      <td>[22, 178, 38, 121, 73, 22, 214, 8, 490, 2635, ...</td>\n",
       "    </tr>\n",
       "    <tr>\n",
       "      <th>1</th>\n",
       "      <td>train</td>\n",
       "      <td>0.605263</td>\n",
       "      <td>1</td>\n",
       "      <td>[1689, 434, 32, 1458, 196, 2, 110, 8, 751, 180...</td>\n",
       "    </tr>\n",
       "    <tr>\n",
       "      <th>2</th>\n",
       "      <td>train</td>\n",
       "      <td>0.666667</td>\n",
       "      <td>1</td>\n",
       "      <td>[5, 29, 1141, 38, 5412, 5477, 39, 15, 296, 17,...</td>\n",
       "    </tr>\n",
       "    <tr>\n",
       "      <th>3</th>\n",
       "      <td>test</td>\n",
       "      <td>0.815789</td>\n",
       "      <td>1</td>\n",
       "      <td>[177, 7555, 4, 160, 12, 6559, 2055, 30, 10, 1,...</td>\n",
       "    </tr>\n",
       "    <tr>\n",
       "      <th>4</th>\n",
       "      <td>train</td>\n",
       "      <td>0.550000</td>\n",
       "      <td>1</td>\n",
       "      <td>[17864, 5, 1089, 14, 227, 820, 192, 1506, 1, 0...</td>\n",
       "    </tr>\n",
       "  </tbody>\n",
       "</table>\n",
       "</div>"
      ],
      "text/plain": [
       "   split  toxicity  toxicity_label  \\\n",
       "0  train  0.373134               0   \n",
       "1  train  0.605263               1   \n",
       "2  train  0.666667               1   \n",
       "3   test  0.815789               1   \n",
       "4  train  0.550000               1   \n",
       "\n",
       "                                    padded_sequences  \n",
       "0  [22, 178, 38, 121, 73, 22, 214, 8, 490, 2635, ...  \n",
       "1  [1689, 434, 32, 1458, 196, 2, 110, 8, 751, 180...  \n",
       "2  [5, 29, 1141, 38, 5412, 5477, 39, 15, 296, 17,...  \n",
       "3  [177, 7555, 4, 160, 12, 6559, 2055, 30, 10, 1,...  \n",
       "4  [17864, 5, 1089, 14, 227, 820, 192, 1506, 1, 0...  "
      ]
     },
     "execution_count": 53,
     "metadata": {},
     "output_type": "execute_result"
    }
   ],
   "source": [
    "data.head()"
   ]
  },
  {
   "cell_type": "code",
   "execution_count": 54,
   "metadata": {},
   "outputs": [
    {
     "name": "stdout",
     "output_type": "stream",
     "text": [
      "0    435407\n",
      "1    137164\n",
      "Name: toxicity_label, dtype: int64\n",
      "Nombre de commentaires toxiques : 137164\n"
     ]
    }
   ],
   "source": [
    "print(data['toxicity_label'].value_counts())\n",
    "print(f\"Nombre de commentaires toxiques : {data['toxicity_label'].value_counts()[1]}\")"
   ]
  },
  {
   "cell_type": "markdown",
   "metadata": {},
   "source": [
    "Il existe plusieurs méthodes pour pallier au problème de déséquilibre de classes comme :\n",
    "- Undersampling : réduire la taille de la classe majoritaire.\n",
    "- Class weights : donner plus de poids à la classe minoritaire.\n",
    "\n",
    "Nous allons faire une combinaison des deux méthodes en utilisant les class weights et en réduisant la taille de la classe majoritaire."
   ]
  },
  {
   "cell_type": "code",
   "execution_count": 55,
   "metadata": {},
   "outputs": [
    {
     "data": {
      "text/plain": [
       "0    435407\n",
       "1    137164\n",
       "Name: toxicity_label, dtype: int64"
      ]
     },
     "execution_count": 55,
     "metadata": {},
     "output_type": "execute_result"
    }
   ],
   "source": [
    "data['toxicity_label'].value_counts()"
   ]
  },
  {
   "cell_type": "code",
   "execution_count": 56,
   "metadata": {},
   "outputs": [
    {
     "name": "stderr",
     "output_type": "stream",
     "text": [
      "C:\\Users\\helle\\AppData\\Local\\Temp\\ipykernel_24272\\3834063438.py:7: FutureWarning: The frame.append method is deprecated and will be removed from pandas in a future version. Use pandas.concat instead.\n",
      "  data = data_0.append(data_1)\n"
     ]
    }
   ],
   "source": [
    "# Nous allons réduire de moitié la taille des données train ayant un label 0 pour équilibrer les données :\n",
    "\n",
    "r = 2\n",
    "data_0 = data[data['toxicity_label'] == 0].sample(n=data[data['toxicity_label'] == 1].shape[0]*r)\n",
    "data_1 = data[data['toxicity_label'] == 1]\n",
    "\n",
    "data = data_0.append(data_1)"
   ]
  },
  {
   "cell_type": "code",
   "execution_count": 58,
   "metadata": {},
   "outputs": [
    {
     "name": "stdout",
     "output_type": "stream",
     "text": [
      "(247788, 4)\n",
      "(123882, 4)\n",
      "(26540, 4)\n",
      "(13282, 4)\n"
     ]
    }
   ],
   "source": [
    "print(data[(data['toxicity_label'] == 0) & (data['split'] == 'train')].shape)\n",
    "print(data[(data['toxicity_label'] == 1) & (data['split'] == 'train')].shape)\n",
    "print(data[(data['toxicity_label'] == 0) & (data['split'] == 'test')].shape)\n",
    "print(data[(data['toxicity_label'] == 1) & (data['split'] == 'test')].shape)"
   ]
  },
  {
   "cell_type": "code",
   "execution_count": 59,
   "metadata": {},
   "outputs": [
    {
     "name": "stderr",
     "output_type": "stream",
     "text": [
      "C:\\Users\\helle\\AppData\\Local\\Temp\\ipykernel_24272\\3433046696.py:8: SettingWithCopyWarning: \n",
      "A value is trying to be set on a copy of a slice from a DataFrame\n",
      "\n",
      "See the caveats in the documentation: https://pandas.pydata.org/pandas-docs/stable/user_guide/indexing.html#returning-a-view-versus-a-copy\n",
      "  dataset_train.drop('split',axis=1,inplace=True)\n",
      "C:\\Users\\helle\\AppData\\Local\\Temp\\ipykernel_24272\\3433046696.py:9: SettingWithCopyWarning: \n",
      "A value is trying to be set on a copy of a slice from a DataFrame\n",
      "\n",
      "See the caveats in the documentation: https://pandas.pydata.org/pandas-docs/stable/user_guide/indexing.html#returning-a-view-versus-a-copy\n",
      "  dataset_test.drop('split',axis=1,inplace=True)\n",
      "C:\\Users\\helle\\AppData\\Local\\Temp\\ipykernel_24272\\3433046696.py:11: SettingWithCopyWarning: \n",
      "A value is trying to be set on a copy of a slice from a DataFrame\n",
      "\n",
      "See the caveats in the documentation: https://pandas.pydata.org/pandas-docs/stable/user_guide/indexing.html#returning-a-view-versus-a-copy\n",
      "  dataset_train.drop('toxicity',axis=1,inplace=True)\n",
      "C:\\Users\\helle\\AppData\\Local\\Temp\\ipykernel_24272\\3433046696.py:12: SettingWithCopyWarning: \n",
      "A value is trying to be set on a copy of a slice from a DataFrame\n",
      "\n",
      "See the caveats in the documentation: https://pandas.pydata.org/pandas-docs/stable/user_guide/indexing.html#returning-a-view-versus-a-copy\n",
      "  dataset_test.drop('toxicity',axis=1,inplace=True)\n"
     ]
    },
    {
     "name": "stdout",
     "output_type": "stream",
     "text": [
      "(371670, 100) (371670,) (39822, 100) (39822,)\n"
     ]
    }
   ],
   "source": [
    "import numpy as np\n",
    "\n",
    "# Séparation des données en deux ensembles : un pour l'entraînement et un pour le test\n",
    "\n",
    "dataset_train=data[data.split=='train']\n",
    "dataset_test=data[data.split=='test']\n",
    "\n",
    "dataset_train.drop('split',axis=1,inplace=True)\n",
    "dataset_test.drop('split',axis=1,inplace=True)\n",
    "\n",
    "dataset_train.drop('toxicity',axis=1,inplace=True)\n",
    "dataset_test.drop('toxicity',axis=1,inplace=True)\n",
    "\n",
    "y_train = np.array(dataset_train['toxicity_label'])\n",
    "y_test = np.array(dataset_test['toxicity_label'])\n",
    "\n",
    "X_train = np.array(dataset_train['padded_sequences'].tolist())\n",
    "X_test = np.array(dataset_test['padded_sequences'].tolist())\n",
    "\n",
    "print(X_train.shape, y_train.shape, X_test.shape, y_test.shape)"
   ]
  },
  {
   "cell_type": "code",
   "execution_count": 60,
   "metadata": {},
   "outputs": [
    {
     "name": "stdout",
     "output_type": "stream",
     "text": [
      "(74334, 100) (74334,) (26564, 100) (26564,)\n"
     ]
    }
   ],
   "source": [
    "# only take 10% of the data for training randomly\n",
    "proportion = 0.2\n",
    "np.random.seed(42)\n",
    "\n",
    "train_indices = np.random.choice(X_train.shape[0], int(proportion * X_train.shape[0]), replace=False)\n",
    "test_indices = np.random.choice(X_test.shape[0], int(proportion * X_test.shape[0]), replace=False)\n",
    "\n",
    "X_train = X_train[train_indices]\n",
    "y_train = y_train[train_indices]\n",
    "\n",
    "# Garder autant de commentaires non toxiques que de commentaires toxiques en utilisant un échantillon aléatoire pour le test set\n",
    "\n",
    "toxic_indices = np.where(y_test == 1)[0]\n",
    "non_toxic_indices = np.where(y_test == 0)[0]\n",
    "\n",
    "test_indices = np.concatenate([toxic_indices, np.random.choice(non_toxic_indices, len(toxic_indices), replace=False)])\n",
    "\n",
    "X_test = X_test[test_indices]\n",
    "y_test = y_test[test_indices]\n",
    "\n",
    "print(X_train.shape, y_train.shape, X_test.shape, y_test.shape)"
   ]
  },
  {
   "cell_type": "code",
   "execution_count": 62,
   "metadata": {},
   "outputs": [
    {
     "name": "stdout",
     "output_type": "stream",
     "text": [
      "Number of 0 in training set:  49561\n",
      "Number of 1 in training set:  24773\n",
      "Number of 0 in test set:  13282\n",
      "Number of 1 in test set:  13282\n"
     ]
    }
   ],
   "source": [
    "# count the number of 0 and 1 in the training set\n",
    "class_0 = len(y_train[y_train == 0])\n",
    "class_1 = len(y_train[y_train == 1])\n",
    "\n",
    "print(\"Number of 0 in training set: \", class_0)\n",
    "print(\"Number of 1 in training set: \", class_1)\n",
    "\n",
    "# count the number of 0 and 1 in the test set\n",
    "print(\"Number of 0 in test set: \", len(y_test[y_test == 0]))\n",
    "print(\"Number of 1 in test set: \", len(y_test[y_test == 1]))"
   ]
  },
  {
   "cell_type": "markdown",
   "metadata": {},
   "source": [
    "Création du modèle RNN :\n"
   ]
  },
  {
   "cell_type": "code",
   "execution_count": 63,
   "metadata": {},
   "outputs": [
    {
     "name": "stdout",
     "output_type": "stream",
     "text": [
      "Model: \"sequential\"\n",
      "_________________________________________________________________\n",
      " Layer (type)                Output Shape              Param #   \n",
      "=================================================================\n",
      " embedding (Embedding)       (None, 100, 128)          3200000   \n",
      "                                                                 \n",
      " bidirectional (Bidirectiona  (None, 128)              98816     \n",
      " l)                                                              \n",
      "                                                                 \n",
      " dropout (Dropout)           (None, 128)               0         \n",
      "                                                                 \n",
      " dense (Dense)               (None, 64)                8256      \n",
      "                                                                 \n",
      " dropout_1 (Dropout)         (None, 64)                0         \n",
      "                                                                 \n",
      " dense_1 (Dense)             (None, 32)                2080      \n",
      "                                                                 \n",
      " dropout_2 (Dropout)         (None, 32)                0         \n",
      "                                                                 \n",
      " dense_2 (Dense)             (None, 1)                 33        \n",
      "                                                                 \n",
      "=================================================================\n",
      "Total params: 3,309,185\n",
      "Trainable params: 3,309,185\n",
      "Non-trainable params: 0\n",
      "_________________________________________________________________\n"
     ]
    }
   ],
   "source": [
    "from tensorflow.keras.models import Sequential\n",
    "from tensorflow.keras.layers import Embedding, LSTM, Dense, Dropout, Bidirectional, Conv1D\n",
    "from tensorflow.keras.optimizers import Adam\n",
    "from tensorflow.keras.preprocessing.text import Tokenizer\n",
    "from tensorflow.keras.preprocessing.sequence import pad_sequences\n",
    "from tensorflow.keras.regularizers import l2\n",
    "from tensorflow.keras.metrics import Precision, Recall\n",
    "\n",
    "# Définition des hyperparamètres\n",
    "vocab_size = 25000       # Taille maximale du vocabulaire (nombre de mots uniques pris en compte)\n",
    "max_length = 100         # Longueur maximale des séquences (post-padding/truncating)\n",
    "embedding_dim = 128       # Dimensionnalité des vecteurs d'embedding\n",
    "lstm_units = 64          # Nombre d'unités dans chaque couche LSTM\n",
    "dropout_rate = 0.3       # Taux de dropout pour la régularisation\n",
    "learning_rate = 0.001    # Taux d'apprentissage pour l'optimiseur\n",
    "\n",
    "# Construction du modèle de classification\n",
    "model = Sequential([\n",
    "    # Couche d'embedding pour transformer les indices en vecteurs\n",
    "    Embedding(input_dim=vocab_size, output_dim=embedding_dim, input_length=max_length),\n",
    " \n",
    "    # Première couche LSTM bidirectionnelle avec retour de séquences\n",
    "    Bidirectional(LSTM(lstm_units, return_sequences=False, activation='tanh', kernel_regularizer=l2(0.01))),\n",
    "    Dropout(0.1),  # Régularisation pour éviter le surapprentissage\n",
    "\n",
    "    # # Deuxième couche LSTM bidirectionnelle sans retour de séquences\n",
    "    # LSTM(lstm_units, activation='tanh', kernel_regularizer=l2(0.01)),\n",
    "    # Dropout(0.1),  # Ajout d'une deuxième couche de dropout\n",
    "\n",
    "    # Couche fully connected avec activation ReLU\n",
    "    Dense(64, activation='relu'),\n",
    "    Dropout(0.2),\n",
    "    \n",
    "    Dense(32, activation='relu'),\n",
    "    Dropout(0.3),\n",
    "\n",
    "    # Couche de sortie pour la classification binaire\n",
    "    Dense(1, activation='sigmoid')\n",
    "    \n",
    "    # pour une classification continue, on peut utiliser une couche Dense(1) avec activation 'linear'\n",
    "    # Dense(1, activation='linear')\n",
    "])\n",
    "\n",
    "# Compilation du modèle\n",
    "model.compile(\n",
    "    loss='binary_crossentropy',             # Fonction de perte pour les tâches de classification binaire\n",
    "    optimizer=Adam(learning_rate=learning_rate),  # Optimiseur Adam avec un taux d'apprentissage défini\n",
    "    metrics=['accuracy']                    # Métrique utilisée pour évaluer les performances\n",
    ")\n",
    "\n",
    "# continue\n",
    "# model.compile(\n",
    "#     loss='mean_squared_error',  # Utilise MSE pour des scores continus\n",
    "#     optimizer='adam',          # Optimiseur Adam (bon pour des tâches complexes)\n",
    "#     metrics=['mae']            # Facultatif : métrique d'évaluation supplémentaire\n",
    "# )\n",
    "\n",
    "\n",
    "# Afficher un résumé du modèle\n",
    "model.summary()\n",
    "\n"
   ]
  },
  {
   "cell_type": "markdown",
   "metadata": {},
   "source": [
    "### Calcul des poids pour classes déséquilibrées\n",
    "\n",
    "Pour calculer les poids à utiliser pour les classes déséquilibrées, nous utilisons la méthode suivante :\n",
    "\n",
    "#### Données du problème\n",
    "\n",
    "- Classe `0` : 157343 occurrences\n",
    "- Classe `1` : 49533 occurrences\n",
    "\n",
    "On divise le nombre total de données par le nombre de données de chaque classe pour obtenir les poids :\n",
    "\n",
    "N = nombre total de données,\n",
    "n_0 = nombre d'échantillons dans la classe 0,\n",
    "n_1 = nombre d'échantillons dans la classe 1\n",
    "\n",
    "- w_0 = N/n_0\n",
    "- w_1 = N/n_1\n",
    "\n",
    "Pour éviter que les poids deviennent trop élevés ou difficiles à interpréter, vous pouvez normaliser les poids en divisant chaque poids par la somme des poids"
   ]
  },
  {
   "cell_type": "code",
   "execution_count": 64,
   "metadata": {},
   "outputs": [
    {
     "name": "stdout",
     "output_type": "stream",
     "text": [
      "Weight for class 0:  1.0\n",
      "Weight for class 1:  2.0006054979211236\n",
      "Normalized weight for class 0:  0.33\n",
      "Normalized weight for class 1:  0.67\n"
     ]
    }
   ],
   "source": [
    "N_total = len(y_train)\n",
    "w_0 = N_total / class_0\n",
    "w_1 = N_total / class_1\n",
    "\n",
    "w_0_normalized = w_0 / (w_0 + w_1)\n",
    "w_1_normalized = w_1 / (w_0 + w_1)\n",
    "\n",
    "arrondi = 2\n",
    "w_0_normalized = round(w_0_normalized, arrondi)\n",
    "w_1_normalized = round(w_1_normalized, arrondi)\n",
    "\n",
    "print(\"Weight for class 0: \", w_0/w_0)\n",
    "print(\"Weight for class 1: \", w_1/w_0)\n",
    "\n",
    "print(\"Normalized weight for class 0: \", w_0_normalized)\n",
    "print(\"Normalized weight for class 1: \", w_1_normalized)"
   ]
  },
  {
   "cell_type": "code",
   "execution_count": 65,
   "metadata": {},
   "outputs": [
    {
     "name": "stdout",
     "output_type": "stream",
     "text": [
      "Epoch 1/5\n",
      "1859/1859 [==============================] - 156s 82ms/step - loss: 0.8544 - accuracy: 0.6802 - val_loss: 0.4552 - val_accuracy: 0.7942\n",
      "Epoch 2/5\n",
      "1859/1859 [==============================] - 141s 76ms/step - loss: 0.5771 - accuracy: 0.8169 - val_loss: 0.4604 - val_accuracy: 0.8064\n",
      "Epoch 3/5\n",
      "1859/1859 [==============================] - 142s 77ms/step - loss: 0.5018 - accuracy: 0.8467 - val_loss: 0.4944 - val_accuracy: 0.7805\n",
      "Epoch 4/5\n",
      "1859/1859 [==============================] - 149s 80ms/step - loss: 0.4420 - accuracy: 0.8639 - val_loss: 0.4723 - val_accuracy: 0.7981\n",
      "Epoch 5/5\n",
      "1859/1859 [==============================] - 166s 89ms/step - loss: 0.3885 - accuracy: 0.8795 - val_loss: 0.5538 - val_accuracy: 0.7878\n"
     ]
    }
   ],
   "source": [
    "# Entrainement du modèle\n",
    "from tensorflow.keras.callbacks import EarlyStopping\n",
    "\n",
    "class_weights = {0: 1, 1: 2}  # Par exemple, donner plus de poids aux commentaires toxiques\n",
    "\n",
    "\n",
    "history = model.fit(\n",
    "    X_train, y_train,            # Données d'entrée et de sortie\n",
    "    epochs=5,                    # Nombre d'itérations sur l'ensemble des données\n",
    "    batch_size=32,               # Nombre d'échantillons utilisés pour estimer le gradient\n",
    "    validation_split=0.2,        # 20% des données utilisées pour la validation\n",
    "    verbose=1,                   # Affichage des logs\n",
    "    class_weight=class_weights,  # Poids pour les classes\n",
    ")\n",
    "\n"
   ]
  },
  {
   "cell_type": "code",
   "execution_count": 66,
   "metadata": {},
   "outputs": [
    {
     "data": {
      "image/png": "[encoded data removed]",
      "text/plain": [
       "<Figure size 500x300 with 1 Axes>"
      ]
     },
     "metadata": {},
     "output_type": "display_data"
    },
    {
     "data": {
      "image/png": "[encoded data removed]",
      "text/plain": [
       "<Figure size 500x300 with 1 Axes>"
      ]
     },
     "metadata": {},
     "output_type": "display_data"
    }
   ],
   "source": [
    "import matplotlib.pyplot as plt\n",
    "\n",
    "# Courbe de perte\n",
    "plt.figure(figsize=(5, 3))\n",
    "plt.plot(history.history['loss'], label='train loss')\n",
    "plt.plot(history.history['val_loss'], label='validation loss')\n",
    "plt.title('Courbe de la perte')\n",
    "plt.xlabel('Epochs')\n",
    "plt.ylabel('Loss')\n",
    "plt.legend()\n",
    "plt.show()\n",
    "\n",
    "# Courbe de précision\n",
    "plt.figure(figsize=(5, 3))\n",
    "plt.plot(history.history['accuracy'], label='train accuracy')\n",
    "plt.plot(history.history['val_accuracy'], label='validation accuracy')\n",
    "plt.title('Courbe de précision')\n",
    "plt.xlabel('Epochs')\n",
    "plt.ylabel('Accuracy')\n",
    "plt.legend()\n",
    "plt.show()\n"
   ]
  },
  {
   "cell_type": "code",
   "execution_count": 67,
   "metadata": {},
   "outputs": [
    {
     "name": "stdout",
     "output_type": "stream",
     "text": [
      "831/831 [==============================] - 11s 13ms/step - loss: 0.6206 - accuracy: 0.7852\n",
      "Loss sur le jeu de test : 0.6206105351448059\n",
      "Précision sur le jeu de test : 0.7851603627204895\n"
     ]
    }
   ],
   "source": [
    "# Evaluation du modèle\n",
    "loss, accuracy = model.evaluate(X_test, y_test, verbose=1)\n",
    "print(f\"Loss sur le jeu de test : {loss}\")\n",
    "print(f\"Précision sur le jeu de test : {accuracy}\")"
   ]
  },
  {
   "cell_type": "markdown",
   "metadata": {},
   "source": [
    "On remarque que notre modèle a une précision de 0.78 sur les données de test. Cepandant, la précision n'est pas une bonne métrique pour les problèmes de classification déséquilibrée. Nous allons utiliser la matrice de confusion et le rapport de classification pour évaluer le modèle."
   ]
  },
  {
   "cell_type": "code",
   "execution_count": 68,
   "metadata": {},
   "outputs": [
    {
     "name": "stdout",
     "output_type": "stream",
     "text": [
      "831/831 [==============================] - 11s 13ms/step\n"
     ]
    },
    {
     "data": {
      "image/png": "[encoded data removed]",
      "text/plain": [
       "<Figure size 1000x500 with 2 Axes>"
      ]
     },
     "metadata": {},
     "output_type": "display_data"
    }
   ],
   "source": [
    "# Prédiction sur le jeu de test avec une matrice de confusion\n",
    "import seaborn as sns\n",
    "from sklearn.metrics import confusion_matrix\n",
    "\n",
    "\n",
    "y_pred = model.predict(X_test)\n",
    "cm = confusion_matrix(y_test > 0.5, y_pred > 0.5)\n",
    "\n",
    "plt.figure(figsize=(10,5))\n",
    "sns.heatmap(cm, annot=True, fmt='d')\n",
    "plt.xlabel('Predicted')\n",
    "plt.ylabel('Truth')\n",
    "plt.show()\n"
   ]
  },
  {
   "cell_type": "code",
   "execution_count": 69,
   "metadata": {},
   "outputs": [
    {
     "name": "stdout",
     "output_type": "stream",
     "text": [
      "Précision : 0.7966632724994126\n",
      "Rappel : 0.7657732269236561\n",
      "Score F1 : 0.7809128949287881\n"
     ]
    }
   ],
   "source": [
    "# Calcul de la précision, du rappel et du score F1\n",
    "from sklearn.metrics import precision_score, recall_score, f1_score\n",
    "\n",
    "precision = precision_score(y_test > 0.5, y_pred > 0.5)\n",
    "recall = recall_score(y_test > 0.5, y_pred > 0.5)\n",
    "f1 = f1_score(y_test > 0.5, y_pred > 0.5)\n",
    "\n",
    "print(f\"Précision : {precision}\", f\"Rappel : {recall}\", f\"Score F1 : {f1}\", sep='\\n')"
   ]
  },
  {
   "cell_type": "markdown",
   "metadata": {},
   "source": [
    "La précision est définie comme le nombre de prédictions correctes divisé par le nombre total de prédictions. Cependant, dans le cas de classes déséquilibrées, la précision peut être élevée même si le modèle ne prédit pas bien la classe minoritaire. C'est pourquoi nous utilisons la matrice de confusion et le rapport de classification pour évaluer le modèle.\n",
    "\n",
    "Le rappel est défini comme le nombre de vrais positifs divisé par le nombre de vrais positifs plus de faux négatifs. Le recall est une mesure de la capacité du modèle à trouver tous les échantillons positifs.\n",
    "\n",
    "Le score F1 est la moyenne harmonique de la précision et du rappel. Il est utile pour les problèmes de classification déséquilibrée car il prend en compte à la fois la précision et le rappel et donne une mesure unique de la performance du modèle.\n"
   ]
  },
  {
   "cell_type": "code",
   "execution_count": 70,
   "metadata": {},
   "outputs": [
    {
     "name": "stdout",
     "output_type": "stream",
     "text": [
      "Precision:  0.7966632724994126 \n",
      "Recall:  0.7657732269236561 \n",
      "F1 Score:  0.7809128949287881\n"
     ]
    }
   ],
   "source": [
    "precision = cm[1][1] / (cm[1][1] + cm[0][1])\n",
    "recall = cm[1][1] / (cm[1][1] + cm[1][0])\n",
    "f1 = 2 * (precision * recall) / (precision + recall)\n",
    "accuracy = (cm[0][0] + cm[1][1]) / np.sum(cm)\n",
    "\n",
    "print(\"Precision: \", precision, \"\\nRecall: \", recall, \"\\nF1 Score: \", f1)"
   ]
  },
  {
   "cell_type": "code",
   "execution_count": 74,
   "metadata": {},
   "outputs": [],
   "source": [
    "# save the model and its weights\n",
    "model.save('../src/model/toxicity_model_1.h5')"
   ]
  },
  {
   "cell_type": "markdown",
   "metadata": {},
   "source": [
    "# 5. Inférence sur de nouveaux commentaires\n",
    "\n",
    "Une fois le modèle entraîné, il est temps de le tester sur des exemples concrets pour évaluer sa capacité à prédire la toxicité des commentaires.\n",
    "Nous allons également charger le tokenizer sauvegardé pour prétraiter les textes avant l'inférence."
   ]
  },
  {
   "cell_type": "code",
   "execution_count": 72,
   "metadata": {},
   "outputs": [],
   "source": [
    "import re\n",
    "import string\n",
    "from tensorflow.keras.preprocessing.text import Tokenizer\n",
    "from tensorflow.keras.preprocessing.sequence import pad_sequences\n",
    "from nltk.corpus import stopwords\n",
    "from nltk.tokenize import word_tokenize\n",
    "from nltk.stem import WordNetLemmatizer\n",
    "import nltk\n",
    "\n",
    "#remove stopwords\n",
    "def remove_stopwords(text):\n",
    "    stop_words = set(stopwords.words('english'))\n",
    "    tokens = word_tokenize(text)\n",
    "    result = [i for i in tokens if not i in stop_words]\n",
    "    return ' '.join(result)\n",
    "\n",
    "def process_comment(comment):\n",
    "    \n",
    "    # On met le texte en minuscule\n",
    "    comment = comment.lower()\n",
    "    \n",
    "    # On retire les balises HTML, les caractères spéciaux et les espaces multiples\n",
    "    comment = re.sub(r'<.*?>', '', comment)  # Supprimer les balises HTML\n",
    "    comment = re.sub(r'[^a-zA-Z\\s]', '', comment)  # Garder uniquement les lettres\n",
    "    comment = re.sub(r'\\s+', ' ', comment).strip()  # Supprimer les espaces multiples\n",
    "    comment = comment.translate(str.maketrans('', '', string.punctuation)) #remove punctuations\n",
    "    \n",
    "    # On retire les stop words\n",
    "    tokens = word_tokenize(comment)\n",
    "    final_tokens = comment.split()\n",
    "    \n",
    "    # On lemmatize les mots\n",
    "    wordlem = WordNetLemmatizer()\n",
    "    finalwords = []\n",
    "    for w in final_tokens:\n",
    "        word = wordlem.lemmatize(w)\n",
    "        finalwords.append(word)\n",
    "\n",
    "    return ' '.join(finalwords)"
   ]
  },
  {
   "cell_type": "code",
   "execution_count": 73,
   "metadata": {},
   "outputs": [
    {
     "name": "stdout",
     "output_type": "stream",
     "text": [
      "1/1 [==============================] - 0s 24ms/step\n",
      "Comment: I love this video, it was very helpful!\n",
      "Predicted Toxicity: Non-Toxic (Score: 0.01)\n",
      "\n",
      "1/1 [==============================] - 0s 25ms/step\n",
      "Comment: This is the worst content I've ever seen. Total garbage!\n",
      "Predicted Toxicity: Toxic (Score: 0.98)\n",
      "\n",
      "1/1 [==============================] - 0s 22ms/step\n",
      "Comment: You should die, you idiot.\n",
      "Predicted Toxicity: Toxic (Score: 1.00)\n",
      "\n",
      "1/1 [==============================] - 0s 24ms/step\n",
      "Comment: I am the best president ever\n",
      "Predicted Toxicity: Non-Toxic (Score: 0.04)\n",
      "\n"
     ]
    }
   ],
   "source": [
    "# Charger le tokenizer sauvegardé\n",
    "\n",
    "with open('../src/tokenizer.pickle', 'rb') as f:\n",
    "    tokenizer = pickle.load(f)\n",
    "\n",
    "# Fonction de prétraitement et tokenisation\n",
    "def preprocess_text(text, tokenizer, max_length):\n",
    "    # Nettoyage (comme précédemment)\n",
    "    text_cleaned = process_comment(text)\n",
    "    # Conversion en séquence numérique\n",
    "    sequence = tokenizer.texts_to_sequences([text_cleaned])\n",
    "    # Appliquer le padding\n",
    "    padded_sequence = pad_sequences(sequence, maxlen=max_length, padding='post', truncating='post')\n",
    "    return padded_sequence\n",
    "\n",
    "# Exemple de nouveaux commentaires\n",
    "new_comments = [\n",
    "    \"I love this video, it was very helpful!\",\n",
    "    \"This is the worst content I've ever seen. Total garbage!\",\n",
    "    \"You should die, you idiot.\",\n",
    "    \"I am the best president ever\"\n",
    "]\n",
    "\n",
    "# Prédictions\n",
    "for comment in new_comments:\n",
    "    preprocessed_comment = preprocess_text(comment, tokenizer, max_length)\n",
    "    prediction = model.predict(preprocessed_comment)[0][0]  # [0][0] pour extraire la valeur\n",
    "    toxicity = \"Toxic\" if prediction > 0.5 else \"Non-Toxic\"\n",
    "    print(f\"Comment: {comment}\")\n",
    "    print(f\"Predicted Toxicity: {toxicity} (Score: {prediction:.2f})\\n\")\n"
   ]
  }
 ],
 "metadata": {
  "kernelspec": {
   "display_name": "Python 3",
   "language": "python",
   "name": "python3"
  },
  "language_info": {
   "codemirror_mode": {
    "name": "ipython",
    "version": 3
   },
   "file_extension": ".py",
   "mimetype": "text/x-python",
   "name": "python",
   "nbconvert_exporter": "python",
   "pygments_lexer": "ipython3",
   "version": "3.10.10"
  }
 },
 "nbformat": 4,
 "nbformat_minor": 2
}
