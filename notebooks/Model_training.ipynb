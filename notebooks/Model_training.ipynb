{
 "cells": [
  {
   "cell_type": "markdown",
   "metadata": {},
   "source": [
    "# 3. Modeling with an RNN\n",
    "\n",
    "In this section, we will use the cleaned data to build a Recurrent Neural Network (RNN) model for classifying YouTube comments based on their toxicity.\n",
    "\n",
    "### Key Steps:\n",
    "- Load the cleaned data.  \n",
    "- Split the data into training and test sets.  \n",
    "- Address the class imbalance issue.  \n",
    "- Build an RNN model.  \n",
    "- Train the model.  \n",
    "\n",
    "This process ensures a robust approach to creating a model capable of effectively identifying toxic comments.\n"
   ]
  },
  {
   "cell_type": "markdown",
   "metadata": {},
   "source": [
    "Initially, we will retrieve the preprocessed data `cleaned_dataset.pickle` that we saved in the previous section : "
   ]
  },
  {
   "cell_type": "code",
   "execution_count": 104,
   "metadata": {},
   "outputs": [],
   "source": [
    "# Retrieving the preprocessed data:\n",
    "import pickle\n",
    "\n",
    "# Loading the preprocessed data and the tokenizer:\n",
    "with open('../data/cleaned_dataset.pickle', 'rb') as f:\n",
    "    data = pickle.load(f)"
   ]
  },
  {
   "cell_type": "code",
   "execution_count": 64,
   "metadata": {},
   "outputs": [
    {
     "data": {
      "text/html": [
       "<div>\n",
       "<style scoped>\n",
       "    .dataframe tbody tr th:only-of-type {\n",
       "        vertical-align: middle;\n",
       "    }\n",
       "\n",
       "    .dataframe tbody tr th {\n",
       "        vertical-align: top;\n",
       "    }\n",
       "\n",
       "    .dataframe thead th {\n",
       "        text-align: right;\n",
       "    }\n",
       "</style>\n",
       "<table border=\"1\" class=\"dataframe\">\n",
       "  <thead>\n",
       "    <tr style=\"text-align: right;\">\n",
       "      <th></th>\n",
       "      <th>split</th>\n",
       "      <th>toxicity</th>\n",
       "      <th>toxicity_label</th>\n",
       "      <th>padded_sequences</th>\n",
       "    </tr>\n",
       "  </thead>\n",
       "  <tbody>\n",
       "    <tr>\n",
       "      <th>0</th>\n",
       "      <td>train</td>\n",
       "      <td>0.373134</td>\n",
       "      <td>0</td>\n",
       "      <td>[22, 178, 38, 120, 73, 22, 214, 8, 490, 2636, ...</td>\n",
       "    </tr>\n",
       "    <tr>\n",
       "      <th>1</th>\n",
       "      <td>train</td>\n",
       "      <td>0.605263</td>\n",
       "      <td>1</td>\n",
       "      <td>[1689, 434, 32, 1458, 196, 2, 110, 8, 751, 181...</td>\n",
       "    </tr>\n",
       "    <tr>\n",
       "      <th>2</th>\n",
       "      <td>train</td>\n",
       "      <td>0.666667</td>\n",
       "      <td>1</td>\n",
       "      <td>[5, 29, 1141, 38, 5412, 5478, 39, 15, 296, 17,...</td>\n",
       "    </tr>\n",
       "    <tr>\n",
       "      <th>3</th>\n",
       "      <td>test</td>\n",
       "      <td>0.815789</td>\n",
       "      <td>1</td>\n",
       "      <td>[177, 7558, 4, 160, 12, 6561, 2055, 30, 10, 1,...</td>\n",
       "    </tr>\n",
       "    <tr>\n",
       "      <th>4</th>\n",
       "      <td>train</td>\n",
       "      <td>0.550000</td>\n",
       "      <td>1</td>\n",
       "      <td>[17873, 5, 1089, 14, 227, 820, 192, 1506, 1, 0...</td>\n",
       "    </tr>\n",
       "  </tbody>\n",
       "</table>\n",
       "</div>"
      ],
      "text/plain": [
       "   split  toxicity  toxicity_label  \\\n",
       "0  train  0.373134               0   \n",
       "1  train  0.605263               1   \n",
       "2  train  0.666667               1   \n",
       "3   test  0.815789               1   \n",
       "4  train  0.550000               1   \n",
       "\n",
       "                                    padded_sequences  \n",
       "0  [22, 178, 38, 120, 73, 22, 214, 8, 490, 2636, ...  \n",
       "1  [1689, 434, 32, 1458, 196, 2, 110, 8, 751, 181...  \n",
       "2  [5, 29, 1141, 38, 5412, 5478, 39, 15, 296, 17,...  \n",
       "3  [177, 7558, 4, 160, 12, 6561, 2055, 30, 10, 1,...  \n",
       "4  [17873, 5, 1089, 14, 227, 820, 192, 1506, 1, 0...  "
      ]
     },
     "execution_count": 64,
     "metadata": {},
     "output_type": "execute_result"
    }
   ],
   "source": [
    "data.head()"
   ]
  },
  {
   "cell_type": "code",
   "execution_count": 65,
   "metadata": {},
   "outputs": [
    {
     "name": "stdout",
     "output_type": "stream",
     "text": [
      "toxicity_label\n",
      "0    435407\n",
      "1    137164\n",
      "Name: count, dtype: int64\n",
      "Number of toxic comments: 137164\n"
     ]
    }
   ],
   "source": [
    "print(data['toxicity_label'].value_counts())\n",
    "print(f\"Number of toxic comments: {data['toxicity_label'].value_counts()[1]}\")"
   ]
  },
  {
   "cell_type": "markdown",
   "metadata": {},
   "source": [
    "There are several methods to address the class imbalance problem, such as:\n",
    "- Undersampling: reduce the size of the majority class.\n",
    "- Class weights: assign more weight to the minority class.\n",
    "\n",
    "We will combine both methods by using class weights and reducing the size of the majority class."
   ]
  },
  {
   "cell_type": "code",
   "execution_count": 66,
   "metadata": {},
   "outputs": [],
   "source": [
    "import pandas as pd\n",
    "\n",
    "# We will reduce the size of the training data with label 0 by half to balance the data:\n",
    "\n",
    "r = 2\n",
    "data_0 = data[data['toxicity_label'] == 0].sample(n=data[data['toxicity_label'] == 1].shape[0] * r)\n",
    "data_1 = data[data['toxicity_label'] == 1]\n",
    "\n",
    "# Concatenating the two dataframes:\n",
    "data = pd.concat([data_0, data_1])"
   ]
  },
  {
   "cell_type": "code",
   "execution_count": 67,
   "metadata": {},
   "outputs": [
    {
     "name": "stdout",
     "output_type": "stream",
     "text": [
      "Number of non-toxic comments in the training set: 247873\n",
      "Number of toxic comments in the training set: 123882\n",
      "Number of non-toxic comments in the test set: 26455\n",
      "Number of toxic comments in the test set: 13282\n"
     ]
    }
   ],
   "source": [
    "print(f\"Number of non-toxic comments in the training set: {data[(data['toxicity_label'] == 0) & (data['split'] == 'train')].shape[0]}\")\n",
    "print(f\"Number of toxic comments in the training set: {data[(data['toxicity_label'] == 1) & (data['split'] == 'train')].shape[0]}\")\n",
    "print(f\"Number of non-toxic comments in the test set: {data[(data['toxicity_label'] == 0) & (data['split'] == 'test')].shape[0]}\")\n",
    "print(f\"Number of toxic comments in the test set: {data[(data['toxicity_label'] == 1) & (data['split'] == 'test')].shape[0]}\")\n"
   ]
  },
  {
   "cell_type": "code",
   "execution_count": 68,
   "metadata": {},
   "outputs": [
    {
     "name": "stdout",
     "output_type": "stream",
     "text": [
      "(371755, 100) (371755,) (39737, 100) (39737,)\n"
     ]
    }
   ],
   "source": [
    "import numpy as np\n",
    "\n",
    "# Splitting the data into two sets: one for training and one for testing\n",
    "dataset_train = data[data.split == 'train'].copy()\n",
    "dataset_test = data[data.split == 'test'].copy()\n",
    "\n",
    "# Dropping unnecessary columns\n",
    "dataset_train.drop('split', axis=1, inplace=True)\n",
    "dataset_test.drop('split', axis=1, inplace=True)\n",
    "\n",
    "dataset_train.drop('toxicity', axis=1, inplace=True)\n",
    "dataset_test.drop('toxicity', axis=1, inplace=True)\n",
    "\n",
    "# Splitting the features and labels\n",
    "y_train = np.array(dataset_train['toxicity_label'])\n",
    "y_test = np.array(dataset_test['toxicity_label'])\n",
    "\n",
    "X_train = np.array(dataset_train['padded_sequences'].tolist())\n",
    "X_test = np.array(dataset_test['padded_sequences'].tolist())\n",
    "\n",
    "print(X_train.shape, y_train.shape, X_test.shape, y_test.shape)\n"
   ]
  },
  {
   "cell_type": "code",
   "execution_count": 69,
   "metadata": {},
   "outputs": [
    {
     "name": "stdout",
     "output_type": "stream",
     "text": [
      "(371755, 100) (371755,) (26564, 100) (26564,)\n"
     ]
    }
   ],
   "source": [
    "# Only take 10% of the data for training randomly\n",
    "proportion = 1  # Set to 1 for 100% of the data, adjust for different proportions\n",
    "np.random.seed(42)  # Set seed for reproducibility\n",
    "\n",
    "# Randomly sample the training data\n",
    "train_indices = np.random.choice(X_train.shape[0], int(proportion * X_train.shape[0]), replace=False)\n",
    "test_indices = np.random.choice(X_test.shape[0], int(proportion * X_test.shape[0]), replace=False)\n",
    "\n",
    "# Apply the selected indices to the training data\n",
    "X_train = X_train[train_indices]\n",
    "y_train = y_train[train_indices]\n",
    "\n",
    "# Keep an equal number of toxic and non-toxic comments in the test set by sampling randomly\n",
    "toxic_indices = np.where(y_test == 1)[0]  # Indices of toxic comments\n",
    "non_toxic_indices = np.where(y_test == 0)[0]  # Indices of non-toxic comments\n",
    "\n",
    "# Combine the indices: all toxic comments and a random sample of non-toxic comments to match the number of toxic comments\n",
    "test_indices = np.concatenate([toxic_indices, np.random.choice(non_toxic_indices, len(toxic_indices), replace=False)])\n",
    "\n",
    "# Apply the selected indices to the test data\n",
    "X_test = X_test[test_indices]\n",
    "y_test = y_test[test_indices]\n",
    "\n",
    "print(X_train.shape, y_train.shape, X_test.shape, y_test.shape)\n"
   ]
  },
  {
   "cell_type": "code",
   "execution_count": 70,
   "metadata": {},
   "outputs": [
    {
     "name": "stdout",
     "output_type": "stream",
     "text": [
      "Number of 0 in training set:  247873\n",
      "Number of 1 in training set:  123882\n",
      "Number of 0 in test set:  13282\n",
      "Number of 1 in test set:  13282\n"
     ]
    }
   ],
   "source": [
    "# Count the number of 0 and 1 in the training set\n",
    "class_0 = len(y_train[y_train == 0])\n",
    "class_1 = len(y_train[y_train == 1])\n",
    "\n",
    "print(\"Number of 0 in training set: \", class_0)\n",
    "print(\"Number of 1 in training set: \", class_1)\n",
    "\n",
    "# Count the number of 0 and 1 in the test set\n",
    "print(\"Number of 0 in test set: \", len(y_test[y_test == 0]))\n",
    "print(\"Number of 1 in test set: \", len(y_test[y_test == 1]))"
   ]
  },
  {
   "cell_type": "markdown",
   "metadata": {},
   "source": [
    "## Building a Bidirectional LSTM Model for Toxic Comment Classification\n",
    "\n",
    "In this section, we will define and construct a deep learning model using a Bidirectional LSTM (Long Short-Term Memory) network to classify text data into toxic and non-toxic categories. The model will be designed to process preprocessed text sequences, leveraging the power of embeddings and LSTM layers for effective sequence modeling. We will also employ dropout regularization to mitigate overfitting and use binary cross-entropy as the loss function since this is a binary classification task. Finally, we will summarize the model architecture for review.\n",
    "\n",
    "### Model Architecture :\n",
    "We employ a simple RNN architecture consisting of the following layers:\n",
    "\n",
    "- Embedding: Converts words into dense vector representations.\n",
    "- LSTM or GRU: Captures sequential dependencies in the text data.\n",
    "- Dense: Classifies each comment as toxic or non-toxic.\n",
    "\n",
    "This straightforward yet effective design is tailored for text classification tasks involving sequence data.\n"
   ]
  },
  {
   "cell_type": "code",
   "execution_count": 71,
   "metadata": {},
   "outputs": [
    {
     "data": {
      "text/html": [
       "<pre style=\"white-space:pre;overflow-x:auto;line-height:normal;font-family:Menlo,'DejaVu Sans Mono',consolas,'Courier New',monospace\"><span style=\"font-weight: bold\">Model: \"sequential_7\"</span>\n",
       "</pre>\n"
      ],
      "text/plain": [
       "\u001b[1mModel: \"sequential_7\"\u001b[0m\n"
      ]
     },
     "metadata": {},
     "output_type": "display_data"
    },
    {
     "data": {
      "text/html": [
       "<pre style=\"white-space:pre;overflow-x:auto;line-height:normal;font-family:Menlo,'DejaVu Sans Mono',consolas,'Courier New',monospace\">┏━━━━━━━━━━━━━━━━━━━━━━━━━━━━━━━━━┳━━━━━━━━━━━━━━━━━━━━━━━━┳━━━━━━━━━━━━━━━┓\n",
       "┃<span style=\"font-weight: bold\"> Layer (type)                    </span>┃<span style=\"font-weight: bold\"> Output Shape           </span>┃<span style=\"font-weight: bold\">       Param # </span>┃\n",
       "┡━━━━━━━━━━━━━━━━━━━━━━━━━━━━━━━━━╇━━━━━━━━━━━━━━━━━━━━━━━━╇━━━━━━━━━━━━━━━┩\n",
       "│ embedding_7 (<span style=\"color: #0087ff; text-decoration-color: #0087ff\">Embedding</span>)         │ (<span style=\"color: #00d7ff; text-decoration-color: #00d7ff\">None</span>, <span style=\"color: #00af00; text-decoration-color: #00af00\">100</span>, <span style=\"color: #00af00; text-decoration-color: #00af00\">128</span>)       │     <span style=\"color: #00af00; text-decoration-color: #00af00\">3,200,000</span> │\n",
       "├─────────────────────────────────┼────────────────────────┼───────────────┤\n",
       "│ bidirectional_7 (<span style=\"color: #0087ff; text-decoration-color: #0087ff\">Bidirectional</span>) │ (<span style=\"color: #00d7ff; text-decoration-color: #00d7ff\">None</span>, <span style=\"color: #00af00; text-decoration-color: #00af00\">128</span>)            │        <span style=\"color: #00af00; text-decoration-color: #00af00\">98,816</span> │\n",
       "├─────────────────────────────────┼────────────────────────┼───────────────┤\n",
       "│ dropout_21 (<span style=\"color: #0087ff; text-decoration-color: #0087ff\">Dropout</span>)            │ (<span style=\"color: #00d7ff; text-decoration-color: #00d7ff\">None</span>, <span style=\"color: #00af00; text-decoration-color: #00af00\">128</span>)            │             <span style=\"color: #00af00; text-decoration-color: #00af00\">0</span> │\n",
       "├─────────────────────────────────┼────────────────────────┼───────────────┤\n",
       "│ dense_21 (<span style=\"color: #0087ff; text-decoration-color: #0087ff\">Dense</span>)                │ (<span style=\"color: #00d7ff; text-decoration-color: #00d7ff\">None</span>, <span style=\"color: #00af00; text-decoration-color: #00af00\">64</span>)             │         <span style=\"color: #00af00; text-decoration-color: #00af00\">8,256</span> │\n",
       "├─────────────────────────────────┼────────────────────────┼───────────────┤\n",
       "│ dropout_22 (<span style=\"color: #0087ff; text-decoration-color: #0087ff\">Dropout</span>)            │ (<span style=\"color: #00d7ff; text-decoration-color: #00d7ff\">None</span>, <span style=\"color: #00af00; text-decoration-color: #00af00\">64</span>)             │             <span style=\"color: #00af00; text-decoration-color: #00af00\">0</span> │\n",
       "├─────────────────────────────────┼────────────────────────┼───────────────┤\n",
       "│ dense_22 (<span style=\"color: #0087ff; text-decoration-color: #0087ff\">Dense</span>)                │ (<span style=\"color: #00d7ff; text-decoration-color: #00d7ff\">None</span>, <span style=\"color: #00af00; text-decoration-color: #00af00\">32</span>)             │         <span style=\"color: #00af00; text-decoration-color: #00af00\">2,080</span> │\n",
       "├─────────────────────────────────┼────────────────────────┼───────────────┤\n",
       "│ dropout_23 (<span style=\"color: #0087ff; text-decoration-color: #0087ff\">Dropout</span>)            │ (<span style=\"color: #00d7ff; text-decoration-color: #00d7ff\">None</span>, <span style=\"color: #00af00; text-decoration-color: #00af00\">32</span>)             │             <span style=\"color: #00af00; text-decoration-color: #00af00\">0</span> │\n",
       "├─────────────────────────────────┼────────────────────────┼───────────────┤\n",
       "│ dense_23 (<span style=\"color: #0087ff; text-decoration-color: #0087ff\">Dense</span>)                │ (<span style=\"color: #00d7ff; text-decoration-color: #00d7ff\">None</span>, <span style=\"color: #00af00; text-decoration-color: #00af00\">1</span>)              │            <span style=\"color: #00af00; text-decoration-color: #00af00\">33</span> │\n",
       "└─────────────────────────────────┴────────────────────────┴───────────────┘\n",
       "</pre>\n"
      ],
      "text/plain": [
       "┏━━━━━━━━━━━━━━━━━━━━━━━━━━━━━━━━━┳━━━━━━━━━━━━━━━━━━━━━━━━┳━━━━━━━━━━━━━━━┓\n",
       "┃\u001b[1m \u001b[0m\u001b[1mLayer (type)                   \u001b[0m\u001b[1m \u001b[0m┃\u001b[1m \u001b[0m\u001b[1mOutput Shape          \u001b[0m\u001b[1m \u001b[0m┃\u001b[1m \u001b[0m\u001b[1m      Param #\u001b[0m\u001b[1m \u001b[0m┃\n",
       "┡━━━━━━━━━━━━━━━━━━━━━━━━━━━━━━━━━╇━━━━━━━━━━━━━━━━━━━━━━━━╇━━━━━━━━━━━━━━━┩\n",
       "│ embedding_7 (\u001b[38;5;33mEmbedding\u001b[0m)         │ (\u001b[38;5;45mNone\u001b[0m, \u001b[38;5;34m100\u001b[0m, \u001b[38;5;34m128\u001b[0m)       │     \u001b[38;5;34m3,200,000\u001b[0m │\n",
       "├─────────────────────────────────┼────────────────────────┼───────────────┤\n",
       "│ bidirectional_7 (\u001b[38;5;33mBidirectional\u001b[0m) │ (\u001b[38;5;45mNone\u001b[0m, \u001b[38;5;34m128\u001b[0m)            │        \u001b[38;5;34m98,816\u001b[0m │\n",
       "├─────────────────────────────────┼────────────────────────┼───────────────┤\n",
       "│ dropout_21 (\u001b[38;5;33mDropout\u001b[0m)            │ (\u001b[38;5;45mNone\u001b[0m, \u001b[38;5;34m128\u001b[0m)            │             \u001b[38;5;34m0\u001b[0m │\n",
       "├─────────────────────────────────┼────────────────────────┼───────────────┤\n",
       "│ dense_21 (\u001b[38;5;33mDense\u001b[0m)                │ (\u001b[38;5;45mNone\u001b[0m, \u001b[38;5;34m64\u001b[0m)             │         \u001b[38;5;34m8,256\u001b[0m │\n",
       "├─────────────────────────────────┼────────────────────────┼───────────────┤\n",
       "│ dropout_22 (\u001b[38;5;33mDropout\u001b[0m)            │ (\u001b[38;5;45mNone\u001b[0m, \u001b[38;5;34m64\u001b[0m)             │             \u001b[38;5;34m0\u001b[0m │\n",
       "├─────────────────────────────────┼────────────────────────┼───────────────┤\n",
       "│ dense_22 (\u001b[38;5;33mDense\u001b[0m)                │ (\u001b[38;5;45mNone\u001b[0m, \u001b[38;5;34m32\u001b[0m)             │         \u001b[38;5;34m2,080\u001b[0m │\n",
       "├─────────────────────────────────┼────────────────────────┼───────────────┤\n",
       "│ dropout_23 (\u001b[38;5;33mDropout\u001b[0m)            │ (\u001b[38;5;45mNone\u001b[0m, \u001b[38;5;34m32\u001b[0m)             │             \u001b[38;5;34m0\u001b[0m │\n",
       "├─────────────────────────────────┼────────────────────────┼───────────────┤\n",
       "│ dense_23 (\u001b[38;5;33mDense\u001b[0m)                │ (\u001b[38;5;45mNone\u001b[0m, \u001b[38;5;34m1\u001b[0m)              │            \u001b[38;5;34m33\u001b[0m │\n",
       "└─────────────────────────────────┴────────────────────────┴───────────────┘\n"
      ]
     },
     "metadata": {},
     "output_type": "display_data"
    },
    {
     "data": {
      "text/html": [
       "<pre style=\"white-space:pre;overflow-x:auto;line-height:normal;font-family:Menlo,'DejaVu Sans Mono',consolas,'Courier New',monospace\"><span style=\"font-weight: bold\"> Total params: </span><span style=\"color: #00af00; text-decoration-color: #00af00\">3,309,185</span> (12.62 MB)\n",
       "</pre>\n"
      ],
      "text/plain": [
       "\u001b[1m Total params: \u001b[0m\u001b[38;5;34m3,309,185\u001b[0m (12.62 MB)\n"
      ]
     },
     "metadata": {},
     "output_type": "display_data"
    },
    {
     "data": {
      "text/html": [
       "<pre style=\"white-space:pre;overflow-x:auto;line-height:normal;font-family:Menlo,'DejaVu Sans Mono',consolas,'Courier New',monospace\"><span style=\"font-weight: bold\"> Trainable params: </span><span style=\"color: #00af00; text-decoration-color: #00af00\">3,309,185</span> (12.62 MB)\n",
       "</pre>\n"
      ],
      "text/plain": [
       "\u001b[1m Trainable params: \u001b[0m\u001b[38;5;34m3,309,185\u001b[0m (12.62 MB)\n"
      ]
     },
     "metadata": {},
     "output_type": "display_data"
    },
    {
     "data": {
      "text/html": [
       "<pre style=\"white-space:pre;overflow-x:auto;line-height:normal;font-family:Menlo,'DejaVu Sans Mono',consolas,'Courier New',monospace\"><span style=\"font-weight: bold\"> Non-trainable params: </span><span style=\"color: #00af00; text-decoration-color: #00af00\">0</span> (0.00 B)\n",
       "</pre>\n"
      ],
      "text/plain": [
       "\u001b[1m Non-trainable params: \u001b[0m\u001b[38;5;34m0\u001b[0m (0.00 B)\n"
      ]
     },
     "metadata": {},
     "output_type": "display_data"
    }
   ],
   "source": [
    "from tensorflow.keras.models import Sequential\n",
    "from tensorflow.keras.layers import Embedding, LSTM, Dense, Dropout, Bidirectional, Conv1D\n",
    "from tensorflow.keras.optimizers import Adam\n",
    "from tensorflow.keras.preprocessing.text import Tokenizer\n",
    "from tensorflow.keras.preprocessing.sequence import pad_sequences\n",
    "from tensorflow.keras.regularizers import l2\n",
    "from tensorflow.keras.metrics import Precision, Recall\n",
    "\n",
    "# Defining the hyperparameters\n",
    "vocab_size = 25000       # Maximum vocabulary size (number of unique words considered)\n",
    "max_length = 100         # Maximum sequence length (post-padding/truncating)\n",
    "embedding_dim = 128      # Dimensionality of the embedding vectors\n",
    "lstm_units = 64          # Number of units in each LSTM layer\n",
    "dropout_rate = 0.3       # Dropout rate for regularization\n",
    "learning_rate = 0.001    # Learning rate for the optimizer\n",
    "\n",
    "# Building the classification model\n",
    "model = Sequential([\n",
    "    # Embedding layer to transform indices into vectors\n",
    "    Embedding(input_dim=vocab_size, output_dim=embedding_dim),\n",
    " \n",
    "    # First bidirectional LSTM layer with sequence output\n",
    "    Bidirectional(LSTM(lstm_units, return_sequences=False, activation='tanh', kernel_regularizer=l2(0.01))),\n",
    "    Dropout(0.1),  # Regularization to avoid overfitting\n",
    "\n",
    "    # Fully connected layer with ReLU activation\n",
    "    Dense(64, activation='relu'),\n",
    "    Dropout(0.2),\n",
    "    \n",
    "    Dense(32, activation='relu'),\n",
    "    Dropout(0.3),\n",
    "\n",
    "    # Output layer for binary classification\n",
    "    Dense(1, activation='sigmoid')\n",
    "])\n",
    "\n",
    "# Compiling the model\n",
    "model.compile(\n",
    "    loss='binary_crossentropy',             # Loss function for binary classification tasks\n",
    "    optimizer=Adam(learning_rate=learning_rate),  # Adam optimizer with a defined learning rate\n",
    "    metrics=['accuracy']                    # Metric used to evaluate performance\n",
    ")\n",
    "\n",
    "model.build(input_shape=(None, max_length))\n",
    "\n",
    "# Display a summary of the model\n",
    "model.summary()\n"
   ]
  },
  {
   "cell_type": "markdown",
   "metadata": {},
   "source": [
    "### Calculation of Weights for Imbalanced Classes\n",
    "\n",
    "To calculate the weights to be used for imbalanced classes, we divide the total number of data points by the number of data points in each class to get the weights:\n",
    "\n",
    "N = total number of data points,  \n",
    "n_0 = number of samples in class 0,  \n",
    "n_1 = number of samples in class 1\n",
    "\n",
    "- w_0 = N / n_0  \n",
    "- w_1 = N / n_1\n",
    "\n",
    "To avoid the weights becoming too large or difficult to interpret, you can normalize the weights by dividing each weight by the sum of the weights."
   ]
  },
  {
   "cell_type": "code",
   "execution_count": 72,
   "metadata": {},
   "outputs": [
    {
     "name": "stdout",
     "output_type": "stream",
     "text": [
      "Weight for class 0:  1.0\n",
      "Weight for class 1:  2.000879869553285\n"
     ]
    }
   ],
   "source": [
    "N_total = len(y_train)\n",
    "w_0 = N_total / class_0\n",
    "w_1 = N_total / class_1\n",
    "\n",
    "print(\"Weight for class 0: \", w_0/w_0)\n",
    "print(\"Weight for class 1: \", w_1/w_0)"
   ]
  },
  {
   "cell_type": "markdown",
   "metadata": {},
   "source": [
    "### Training the Model\n",
    "\n",
    "In this section, we will train the model using the preprocessed training data. To address class imbalance, we will apply class weights, where toxic comments will be given more importance during training. We will also use a validation split of 20% of the data to monitor the model's performance on unseen data during training. Early stopping can be implemented to halt training if the validation performance doesn't improve. The model will run for a set number of epochs to optimize its parameters."
   ]
  },
  {
   "cell_type": "code",
   "execution_count": 73,
   "metadata": {},
   "outputs": [
    {
     "name": "stdout",
     "output_type": "stream",
     "text": [
      "Epoch 1/5\n",
      "\u001b[1m9294/9294\u001b[0m \u001b[32m━━━━━━━━━━━━━━━━━━━━\u001b[0m\u001b[37m\u001b[0m \u001b[1m569s\u001b[0m 61ms/step - accuracy: 0.6255 - loss: 0.9021 - val_accuracy: 0.8040 - val_loss: 0.4407\n",
      "Epoch 2/5\n",
      "\u001b[1m9294/9294\u001b[0m \u001b[32m━━━━━━━━━━━━━━━━━━━━\u001b[0m\u001b[37m\u001b[0m \u001b[1m594s\u001b[0m 64ms/step - accuracy: 0.8156 - loss: 0.5586 - val_accuracy: 0.8044 - val_loss: 0.4272\n",
      "Epoch 3/5\n",
      "\u001b[1m9294/9294\u001b[0m \u001b[32m━━━━━━━━━━━━━━━━━━━━\u001b[0m\u001b[37m\u001b[0m \u001b[1m559s\u001b[0m 60ms/step - accuracy: 0.8227 - loss: 0.5354 - val_accuracy: 0.8206 - val_loss: 0.4096\n",
      "Epoch 4/5\n",
      "\u001b[1m9294/9294\u001b[0m \u001b[32m━━━━━━━━━━━━━━━━━━━━\u001b[0m\u001b[37m\u001b[0m \u001b[1m585s\u001b[0m 63ms/step - accuracy: 0.8280 - loss: 0.5215 - val_accuracy: 0.8130 - val_loss: 0.4216\n",
      "Epoch 5/5\n",
      "\u001b[1m9294/9294\u001b[0m \u001b[32m━━━━━━━━━━━━━━━━━━━━\u001b[0m\u001b[37m\u001b[0m \u001b[1m559s\u001b[0m 60ms/step - accuracy: 0.8337 - loss: 0.5044 - val_accuracy: 0.7987 - val_loss: 0.4580\n"
     ]
    }
   ],
   "source": [
    "from tensorflow.keras.callbacks import EarlyStopping\n",
    "\n",
    "class_weights = {0: 1, 1: 2}  # For example, giving more weight to toxic comments\n",
    "\n",
    "history = model.fit(\n",
    "    X_train, y_train,            # Input and output data\n",
    "    epochs=5,                    # Number of iterations over the entire dataset\n",
    "    batch_size=32,               # Number of samples used to estimate the gradient\n",
    "    validation_split=0.2,        # 20% of the data used for validation\n",
    "    verbose=1,                   # Displaying logs\n",
    "    class_weight=class_weights,  # Weights for the classes\n",
    ")\n",
    "\n"
   ]
  },
  {
   "cell_type": "markdown",
   "metadata": {},
   "source": [
    "# 4. Evaluating the Model\n",
    "### Main Steps:"
   ]
  },
  {
   "cell_type": "code",
   "execution_count": 127,
   "metadata": {},
   "outputs": [
    {
     "data": {
      "image/png": "[encoded data removed]",
      "text/plain": [
       "<Figure size 500x300 with 1 Axes>"
      ]
     },
     "metadata": {},
     "output_type": "display_data"
    },
    {
     "data": {
      "image/png": "[encoded data removed]",
      "text/plain": [
       "<Figure size 500x300 with 1 Axes>"
      ]
     },
     "metadata": {},
     "output_type": "display_data"
    }
   ],
   "source": [
    "import matplotlib.pyplot as plt\n",
    "\n",
    "# Loss curve\n",
    "plt.figure(figsize=(5, 3))\n",
    "plt.plot(history.history['loss'], label='Training Loss')\n",
    "plt.plot(history.history['val_loss'], label='Validation Loss')\n",
    "plt.title('Loss Curve')\n",
    "plt.xlabel('Epochs')\n",
    "plt.ylabel('Loss')\n",
    "plt.legend()\n",
    "plt.show()\n",
    "\n",
    "# Accuracy curve\n",
    "plt.figure(figsize=(5, 3))\n",
    "plt.plot(history.history['accuracy'], label='Training Accuracy')\n",
    "plt.plot(history.history['val_accuracy'], label='Validation Accuracy')\n",
    "plt.title('Accuracy Curve')\n",
    "plt.xlabel('Epochs')\n",
    "plt.ylabel('Accuracy')\n",
    "plt.legend()\n",
    "plt.show()\n",
    "\n"
   ]
  },
  {
   "cell_type": "markdown",
   "metadata": {},
   "source": [
    "From these graphs, we can observe that the training loss decreases and the training accuracy increases, indicating that the model is learning well on the training data. However, the validation loss and validation accuracy remain stable, showing no improvement and stagnating at 0.8 for accuracy. This suggests that the model has reached its maximum performance and is unlikely to improve further. Continuing training beyond this point risks overfitting.  \n",
    "\n",
    "The fact that validation loss and validation accuracy do not improve from the very first epoch indicates that the model is sufficiently complex to capture simple patterns in the data but not complex enough to identify more intricate and subtle patterns that could enhance its performance."
   ]
  },
  {
   "cell_type": "code",
   "execution_count": 128,
   "metadata": {},
   "outputs": [
    {
     "name": "stdout",
     "output_type": "stream",
     "text": [
      "\u001b[1m831/831\u001b[0m \u001b[32m━━━━━━━━━━━━━━━━━━━━\u001b[0m\u001b[37m\u001b[0m \u001b[1m10s\u001b[0m 10ms/step - accuracy: 0.8627 - loss: 0.3183\n",
      "Test Loss: 0.4306488037109375\n",
      "Test Accuracy: 0.808914303779602\n"
     ]
    }
   ],
   "source": [
    "# Model evaluation\n",
    "loss, accuracy = model.evaluate(X_test, y_test, verbose=1)\n",
    "print(f\"Test Loss: {loss}\")\n",
    "print(f\"Test Accuracy: {accuracy}\")"
   ]
  },
  {
   "cell_type": "markdown",
   "metadata": {},
   "source": [
    "We notice that our model achieves an accuracy of 0.81 on the test data. However, accuracy is not an ideal metric for imbalanced classification problems. We will use the confusion matrix and classification report to better evaluate the model."
   ]
  },
  {
   "cell_type": "code",
   "execution_count": 129,
   "metadata": {},
   "outputs": [
    {
     "name": "stdout",
     "output_type": "stream",
     "text": [
      "\u001b[1m831/831\u001b[0m \u001b[32m━━━━━━━━━━━━━━━━━━━━\u001b[0m\u001b[37m\u001b[0m \u001b[1m9s\u001b[0m 10ms/step\n"
     ]
    },
    {
     "data": {
      "image/png": "[encoded data removed]",
      "text/plain": [
       "<Figure size 1000x500 with 2 Axes>"
      ]
     },
     "metadata": {},
     "output_type": "display_data"
    }
   ],
   "source": [
    "# Prediction on the test set with a confusion matrix\n",
    "import seaborn as sns\n",
    "from sklearn.metrics import confusion_matrix\n",
    "import matplotlib.pyplot as plt\n",
    "\n",
    "# Predicting probabilities for the test data\n",
    "y_pred = model.predict(X_test)\n",
    "\n",
    "# Generating the confusion matrix\n",
    "# We compare the predicted values (thresholded at 0.5) with the actual labels (also thresholded)\n",
    "cm = confusion_matrix(y_test > 0.5, y_pred > 0.5)\n",
    "\n",
    "# Plotting the confusion matrix\n",
    "plt.figure(figsize=(10,5))\n",
    "sns.heatmap(cm, annot=True, fmt='d', cmap='Blues', xticklabels=['Non-Toxic', 'Toxic'], yticklabels=['Non-Toxic', 'Toxic'])\n",
    "plt.title('Confusion Matrix')\n",
    "plt.xlabel('Predicted')\n",
    "plt.ylabel('True')\n",
    "plt.show()"
   ]
  },
  {
   "cell_type": "markdown",
   "metadata": {},
   "source": [
    "From this confusion matrix graph, we can see that the class imbalance issue has been resolved. The model is able to predict toxic and non-toxic comments with high precision and recall. This is further confirmed by the classification report below, which shows high precision, recall, and F1 scores for both classes."
   ]
  },
  {
   "cell_type": "markdown",
   "metadata": {},
   "source": [
    "#### Key Evaluation Metrics for Imbalanced Classification Problems\n",
    "\n",
    "1. **Precision**  \n",
    "   Precision is defined as the number of **correct predictions** (true positives) divided by the total number of predictions for a given class. However, for imbalanced classes, precision can still be high even if the model doesn't perform well on the minority class. This is why using tools like the **confusion matrix** and **classification report** is crucial for evaluating the model.\n",
    "\n",
    "2. **Recall**  \n",
    "   Recall is defined as the number of **true positives** divided by the sum of true positives and false negatives. This metric measures the model's ability to **identify all positive samples**, which is important when missing positive samples is costly.\n",
    "\n",
    "3. **F1 Score**  \n",
    "   The **F1 score** is the harmonic mean of precision and recall. It balances both metrics and is especially useful in imbalanced classification problems. The F1 score provides a single measure of model performance that accounts for both precision and recall, making it a more comprehensive evaluation metric.\n",
    "\n",
    "4. **ROC-AUC**  \n",
    "   **ROC-AUC** stands for *Receiver Operating Characteristic - Area Under the Curve*. It is a performance measurement for binary classification problems. The **ROC curve** plots the **True Positive Rate** (Recall) against the **False Positive Rate** (1 - Specificity) at various threshold settings.  \n",
    "   - **AUC** (Area Under the Curve) is the area under this curve, with a value closer to 1 indicating better model performance, and a value near 0.5 suggesting the model is no better than random guessing.\n",
    "\n",
    "5. **PR-AUC**  \n",
    "   **PR-AUC** stands for *Precision-Recall Area Under the Curve*. It is similar to **ROC-AUC**, but it's particularly useful for **imbalanced datasets**. The **PR curve** plots **precision** against **recall**, and the **AUC** represents the area under this curve.  \n",
    "   - A higher PR-AUC score indicates better model performance in identifying the positive class, especially when the negative class is much larger.\n"
   ]
  },
  {
   "cell_type": "code",
   "execution_count": 130,
   "metadata": {},
   "outputs": [
    {
     "name": "stdout",
     "output_type": "stream",
     "text": [
      "Precision: 0.7965023847376789\n",
      "Recall: 0.8298449028760729\n",
      "F1 Score: 0.8128318584070796\n"
     ]
    }
   ],
   "source": [
    "# Calculating precision, recall, and F1 score\n",
    "from sklearn.metrics import precision_score, recall_score, f1_score\n",
    "\n",
    "precision = precision_score(y_test > 0.5, y_pred > 0.5)\n",
    "recall = recall_score(y_test > 0.5, y_pred > 0.5)\n",
    "f1 = f1_score(y_test > 0.5, y_pred > 0.5)\n",
    "\n",
    "print(f\"Precision: {precision}\", f\"Recall: {recall}\", f\"F1 Score: {f1}\", sep='\\n')"
   ]
  },
  {
   "cell_type": "code",
   "execution_count": 132,
   "metadata": {},
   "outputs": [
    {
     "name": "stdout",
     "output_type": "stream",
     "text": [
      "PR-AUC: 0.8981584694332273\n"
     ]
    }
   ],
   "source": [
    "from sklearn.metrics import average_precision_score\n",
    "\n",
    "# Calculating the PR-AUC score\n",
    "pr_auc = average_precision_score(y_test, y_pred)\n",
    "\n",
    "print(f\"PR-AUC: {pr_auc}\")\n"
   ]
  },
  {
   "cell_type": "markdown",
   "metadata": {},
   "source": [
    "A PR-AUC score of 0.9 means your model achieves a high precision across a range of recall values. \n",
    "This score shows your model is very effective at distinguishing between toxic and non-toxic comments, even in the presence of class imbalance."
   ]
  },
  {
   "cell_type": "markdown",
   "metadata": {},
   "source": [
    "## Model Conclusion\n",
    "\n",
    "This model demonstrates reasonable but limited performance, with a precision of 0.8, a recall of 0.83, and an F1-score of 0.81. These metrics indicate that it correctly identifies a large proportion of positive examples while maintaining a good balance between precision and recall. However, the analysis of the loss and accuracy curves highlights significant limitations in its ability to generalize:\n",
    "\n",
    "### 1. **Performance Observations**\n",
    "   - **Training Data**: The model learns well on the training data, as evidenced by the decrease in loss and the increase in accuracy.\n",
    "   - **Validation Data**: Validation metrics stagnate from the very first epoch, with accuracy plateauing at 0.8. This indicates that the model quickly reaches its limit in generalizing beyond the simple patterns present in the data.\n",
    "\n",
    "### 2. **Limitations Analysis**\n",
    "   - **Model Complexity**: The model appears to lack the capacity to capture more subtle or complex patterns in the data. This could be due to:\n",
    "     - An architecture that is too simple or shallow, constrained by resource limitations.\n",
    "     - Insufficient feature representation extracted by the model.\n",
    "   - **Class Imbalance (Positive vs. Negative)**: Although the dataset is imbalanced, the model manages to maintain a reasonable F1-score. However, the imbalance may still affect the model's ability to generalize well to new data.\n",
    "\n",
    "### 3. **Overfitting Risks**\n",
    "   Since the model quickly reaches a plateau on validation data, continuing training risks overfitting on the training data without improving generalization.\n",
    "   This is a clear signal that adjustments in model design or data preparation are needed to enhance performance.\n",
    "\n",
    "### 4. **Recommendations for Improvement**\n",
    "   - **Architecture Enhancement**:\n",
    "     - Increase the depth or add more neurons in the layers to improve the learning capacity of the model.\n",
    "   - **Data Augmentation**:\n",
    "     - Expand the training dataset using data augmentation techniques or by collecting additional data.\n",
    "     - Apply oversampling techniques to balance the classes.\n",
    "   - **Hyperparameter Tuning**:\n",
    "     - Experiment with different hyperparameters, such as activation functions, learning rates, and batch sizes, potentially using grid search to find the optimal configuration.\n",
    "   - **Feature Engineering**:\n",
    "     - Explore feature engineering techniques to enrich the input data and provide more informative signals to the model.\n",
    "\n",
    "### 5. **General Conclusion**\n",
    "The model is currently limited to moderate performance, primarily due to its insufficient complexity to capture subtle patterns in the data. While it avoids catastrophic errors and provides acceptable predictions, adjustments are needed to surpass this performance plateau and fully leverage the data's potential. However, the model is still adequate for use with simple and non-complex data, as we will see in the next steps.\n"
   ]
  },
  {
   "cell_type": "code",
   "execution_count": 131,
   "metadata": {},
   "outputs": [],
   "source": [
    "# Save the model and its weights\n",
    "\n",
    "import os\n",
    "model_number = 0\n",
    "for file in os.listdir('../src/model'):\n",
    "    if file.startswith('toxicity_model'):\n",
    "        model_number = max(model_number, int(file.split('_')[-1].split('.')[0]))\n",
    "\n",
    "model.save('../src/model/toxicity_model_' + str(model_number + 1) + '.keras')\n"
   ]
  },
  {
   "cell_type": "markdown",
   "metadata": {},
   "source": [
    "# 5. Inference on New Comments\n",
    "\n",
    "Once the model has been trained, it’s time to test it on real-world examples to assess its ability to predict the toxicity of comments.  \n",
    "We will also load the saved tokenizer to preprocess the text data before making predictions.\n",
    "\n",
    "### Key Steps:\n",
    "- Load the trained model and tokenizer.\n",
    "- Preprocess new comments using the tokenizer and ```process_comment``` function used during preprocessing.\n",
    "- Make predictions on the new comments using the trained model."
   ]
  },
  {
   "cell_type": "code",
   "execution_count": 125,
   "metadata": {},
   "outputs": [
    {
     "name": "stderr",
     "output_type": "stream",
     "text": [
      "[nltk_data] Downloading package punkt to\n",
      "[nltk_data]     C:\\Users\\helle\\AppData\\Roaming\\nltk_data...\n",
      "[nltk_data]   Package punkt is already up-to-date!\n",
      "[nltk_data] Downloading package wordnet to\n",
      "[nltk_data]     C:\\Users\\helle\\AppData\\Roaming\\nltk_data...\n",
      "[nltk_data]   Package wordnet is already up-to-date!\n",
      "[nltk_data] Downloading package punkt_tab to\n",
      "[nltk_data]     C:\\Users\\helle\\AppData\\Roaming\\nltk_data...\n",
      "[nltk_data]   Package punkt_tab is already up-to-date!\n"
     ]
    }
   ],
   "source": [
    "import re\n",
    "from nltk.tokenize import word_tokenize\n",
    "from nltk.stem import WordNetLemmatizer\n",
    "import nltk\n",
    "\n",
    "nltk.download('punkt')\n",
    "nltk.download('wordnet')\n",
    "nltk.download('punkt_tab')\n",
    "\n",
    "# global initialization of the WordNetLemmatizer\n",
    "wordlem = WordNetLemmatizer()\n",
    "\n",
    "# Function to process a comment\n",
    "def process_comment(comment):\n",
    "    # Convert to lowercase\n",
    "    comment = comment.lower()\n",
    "\n",
    "    # Delete HTML tags\n",
    "    comment = re.sub(r'<.*?>', '', comment)\n",
    "    \n",
    "    # Keep only letters and spaces\n",
    "    comment = re.sub(r'[^a-z\\s]', '', comment)\n",
    "\n",
    "    # Delete multiple spaces\n",
    "    comment = re.sub(r'\\s+', ' ', comment).strip()\n",
    "\n",
    "    # Tokenization\n",
    "    tokens = word_tokenize(comment)\n",
    "\n",
    "    # Lemmatization\n",
    "    final_tokens = [wordlem.lemmatize(w) for w in tokens]\n",
    "\n",
    "    return ' '.join(final_tokens)"
   ]
  },
  {
   "cell_type": "code",
   "execution_count": 134,
   "metadata": {},
   "outputs": [
    {
     "name": "stdout",
     "output_type": "stream",
     "text": [
      "\u001b[1m1/1\u001b[0m \u001b[32m━━━━━━━━━━━━━━━━━━━━\u001b[0m\u001b[37m\u001b[0m \u001b[1m1s\u001b[0m 823ms/step\n",
      "Comment: I love this video, it was very helpful!\n",
      "Predicted Toxicity: Non-Toxic (Score: 0.18)\n",
      "\n",
      "\u001b[1m1/1\u001b[0m \u001b[32m━━━━━━━━━━━━━━━━━━━━\u001b[0m\u001b[37m\u001b[0m \u001b[1m0s\u001b[0m 79ms/step\n",
      "Comment: This is the worst content I've ever seen. Total garbage!\n",
      "Predicted Toxicity: Toxic (Score: 0.98)\n",
      "\n",
      "\u001b[1m1/1\u001b[0m \u001b[32m━━━━━━━━━━━━━━━━━━━━\u001b[0m\u001b[37m\u001b[0m \u001b[1m0s\u001b[0m 114ms/step\n",
      "Comment: You should die, you idiot.\n",
      "Predicted Toxicity: Toxic (Score: 1.00)\n",
      "\n",
      "\u001b[1m1/1\u001b[0m \u001b[32m━━━━━━━━━━━━━━━━━━━━\u001b[0m\u001b[37m\u001b[0m \u001b[1m0s\u001b[0m 121ms/step\n",
      "Comment: I am the best president ever\n",
      "Predicted Toxicity: Non-Toxic (Score: 0.29)\n",
      "\n"
     ]
    }
   ],
   "source": [
    "from keras.models import load_model\n",
    "\n",
    "# Load the saved tokenizer\n",
    "with open('../src/tokenizer.pickle', 'rb') as f:\n",
    "    tokenizer = pickle.load(f)\n",
    "\n",
    "model = load_model('../src/model/toxicity_model_0.keras')\n",
    "\n",
    "# Preprocessing and tokenization function\n",
    "def preprocess_text(text, tokenizer, max_length):\n",
    "    # Cleaning (as before)\n",
    "    text_cleaned = process_comment(text)\n",
    "    # Convert to numerical sequence\n",
    "    sequence = tokenizer.texts_to_sequences([text_cleaned])\n",
    "    # Apply padding\n",
    "    padded_sequence = pad_sequences(sequence, maxlen=max_length, padding='post', truncating='post')\n",
    "    return padded_sequence\n",
    "\n",
    "# Example of new comments\n",
    "new_comments = [\n",
    "    \"I love this video, it was very helpful!\",\n",
    "    \"This is the worst content I've ever seen. Total garbage!\",\n",
    "    \"You should die, you idiot.\",\n",
    "    \"I am the best president ever\"\n",
    "]\n",
    "\n",
    "# Predictions\n",
    "for comment in new_comments:\n",
    "    preprocessed_comment = preprocess_text(comment, tokenizer, max_length)\n",
    "    prediction = model.predict(preprocessed_comment)[0][0]\n",
    "    toxicity = \"Toxic\" if prediction > 0.5 else \"Non-Toxic\"\n",
    "    print(f\"Comment: {comment}\")\n",
    "    print(f\"Predicted Toxicity: {toxicity} (Score: {prediction:.2f})\\n\")\n"
   ]
  },
  {
   "cell_type": "markdown",
   "metadata": {},
   "source": [
    "Overall, the model is effectively distinguishing between toxic and non-toxic comments, even when faced with a range of expressions. Its high accuracy on toxic content, coupled with appropriate responses to non-toxic comments, shows it is well-trained to handle different types of input. However, further fine-tuning could be considered to ensure more nuanced edge cases are properly classified."
   ]
  }
 ],
 "metadata": {
  "kernelspec": {
   "display_name": "Python 3",
   "language": "python",
   "name": "python3"
  },
  "language_info": {
   "codemirror_mode": {
    "name": "ipython",
    "version": 3
   },
   "file_extension": ".py",
   "mimetype": "text/x-python",
   "name": "python",
   "nbconvert_exporter": "python",
   "pygments_lexer": "ipython3",
   "version": "3.11.2"
  }
 },
 "nbformat": 4,
 "nbformat_minor": 2
}
